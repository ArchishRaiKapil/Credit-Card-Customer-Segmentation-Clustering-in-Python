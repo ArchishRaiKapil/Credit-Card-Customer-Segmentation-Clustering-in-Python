{
 "cells": [
  {
   "cell_type": "markdown",
   "metadata": {},
   "source": [
    "# Importing Modules"
   ]
  },
  {
   "cell_type": "code",
   "execution_count": 1,
   "metadata": {},
   "outputs": [],
   "source": [
    "import pandas as pd\n",
    "import matplotlib.pyplot as plt\n",
    "import numpy as np\n",
    "%matplotlib inline\n",
    "import seaborn as sns"
   ]
  },
  {
   "cell_type": "markdown",
   "metadata": {},
   "source": [
    "# Importing Data"
   ]
  },
  {
   "cell_type": "code",
   "execution_count": 2,
   "metadata": {},
   "outputs": [],
   "source": [
    "credit_card_data=pd.read_csv(\"C:/Python Submission/Segmentation/CC GENERAL.csv\")"
   ]
  },
  {
   "cell_type": "markdown",
   "metadata": {},
   "source": [
    "# Missing Value Treatment"
   ]
  },
  {
   "cell_type": "code",
   "execution_count": 3,
   "metadata": {},
   "outputs": [],
   "source": [
    "credit_card_data['CREDIT_LIMIT'].fillna(credit_card_data['CREDIT_LIMIT'].median(),inplace=True)\n",
    "credit_card_data['MINIMUM_PAYMENTS'].median()\n",
    "credit_card_data['MINIMUM_PAYMENTS'].fillna(credit_card_data['MINIMUM_PAYMENTS'].median(),inplace=True)"
   ]
  },
  {
   "cell_type": "markdown",
   "metadata": {},
   "source": [
    "# Deriving New KPI"
   ]
  },
  {
   "cell_type": "markdown",
   "metadata": {},
   "source": [
    "### 1. Monthly Average Purchase"
   ]
  },
  {
   "cell_type": "code",
   "execution_count": 4,
   "metadata": {},
   "outputs": [],
   "source": [
    "credit_card_data['Monthly_ap']=credit_card_data['PURCHASES']/credit_card_data['TENURE']"
   ]
  },
  {
   "cell_type": "markdown",
   "metadata": {},
   "source": [
    "### 2. Monthly Cash Advance"
   ]
  },
  {
   "cell_type": "code",
   "execution_count": 5,
   "metadata": {},
   "outputs": [],
   "source": [
    "credit_card_data['Monthly_ca']=credit_card_data['CASH_ADVANCE']/credit_card_data['TENURE']"
   ]
  },
  {
   "cell_type": "markdown",
   "metadata": {},
   "source": [
    "### 3. Limit Usage Ratio"
   ]
  },
  {
   "cell_type": "code",
   "execution_count": 6,
   "metadata": {},
   "outputs": [],
   "source": [
    "credit_card_data['limit_usage_ratio']=credit_card_data.apply(lambda x: x['BALANCE']/x['CREDIT_LIMIT'],axis=1)"
   ]
  },
  {
   "cell_type": "markdown",
   "metadata": {},
   "source": [
    "#### 4. Payment:Min Payment"
   ]
  },
  {
   "cell_type": "code",
   "execution_count": 7,
   "metadata": {},
   "outputs": [],
   "source": [
    "credit_card_data['payment_minpayment_ratio']=credit_card_data.apply(lambda x:x['PAYMENTS']/x['MINIMUM_PAYMENTS'],axis=1)"
   ]
  },
  {
   "cell_type": "markdown",
   "metadata": {},
   "source": [
    "# Outlier Treatment"
   ]
  },
  {
   "cell_type": "code",
   "execution_count": 8,
   "metadata": {},
   "outputs": [],
   "source": [
    "#log transformatopn\n",
    "credit_card_data_log=credit_card_data.drop(['CUST_ID'],axis=1).applymap(lambda x: np.log(x+1))"
   ]
  },
  {
   "cell_type": "markdown",
   "metadata": {},
   "source": [
    "# Standardzing data"
   ]
  },
  {
   "cell_type": "code",
   "execution_count": 9,
   "metadata": {},
   "outputs": [],
   "source": [
    "from sklearn.preprocessing import StandardScaler"
   ]
  },
  {
   "cell_type": "code",
   "execution_count": 10,
   "metadata": {},
   "outputs": [],
   "source": [
    "sc=StandardScaler()"
   ]
  },
  {
   "cell_type": "code",
   "execution_count": 11,
   "metadata": {},
   "outputs": [],
   "source": [
    "credit_card_data_log_scaled=sc.fit_transform(credit_card_data_log)"
   ]
  },
  {
   "cell_type": "markdown",
   "metadata": {},
   "source": [
    "# Dimesion Reduction"
   ]
  },
  {
   "cell_type": "code",
   "execution_count": 12,
   "metadata": {},
   "outputs": [],
   "source": [
    "from sklearn.decomposition import PCA"
   ]
  },
  {
   "cell_type": "code",
   "execution_count": 13,
   "metadata": {},
   "outputs": [],
   "source": [
    "var_ratio={}\n",
    "for n in range (4,15):\n",
    "    pc=PCA(n_components=n)\n",
    "    cr_pca=pc.fit(credit_card_data_log_scaled)\n",
    "    var_ratio[n]=sum(cr_pca.explained_variance_ratio_)"
   ]
  },
  {
   "cell_type": "code",
   "execution_count": 14,
   "metadata": {},
   "outputs": [
    {
     "data": {
      "text/plain": [
       "<matplotlib.axes._subplots.AxesSubplot at 0xb764f60>"
      ]
     },
     "execution_count": 14,
     "metadata": {},
     "output_type": "execute_result"
    },
    {
     "data": {
      "image/png": "[encoded data removed]",
      "text/plain": [
       "<matplotlib.figure.Figure at 0xb764be0>"
      ]
     },
     "metadata": {},
     "output_type": "display_data"
    }
   ],
   "source": [
    "pd.Series(var_ratio).plot()"
   ]
  },
  {
   "cell_type": "markdown",
   "metadata": {},
   "source": [
    "#### Since 6 Components are explaining about 85% variance so we select 6 components"
   ]
  },
  {
   "cell_type": "code",
   "execution_count": 15,
   "metadata": {},
   "outputs": [],
   "source": [
    "pc_final=PCA(n_components=6).fit(credit_card_data_log_scaled)\n",
    "\n",
    "reduced_cr=pc_final.fit_transform(credit_card_data_log_scaled)"
   ]
  },
  {
   "cell_type": "code",
   "execution_count": 16,
   "metadata": {},
   "outputs": [],
   "source": [
    "col_list=credit_card_data_log.columns"
   ]
  },
  {
   "cell_type": "code",
   "execution_count": 17,
   "metadata": {},
   "outputs": [
    {
     "data": {
      "text/html": [
       "<div>\n",
       "<style scoped>\n",
       "    .dataframe tbody tr th:only-of-type {\n",
       "        vertical-align: middle;\n",
       "    }\n",
       "\n",
       "    .dataframe tbody tr th {\n",
       "        vertical-align: top;\n",
       "    }\n",
       "\n",
       "    .dataframe thead th {\n",
       "        text-align: right;\n",
       "    }\n",
       "</style>\n",
       "<table border=\"1\" class=\"dataframe\">\n",
       "  <thead>\n",
       "    <tr style=\"text-align: right;\">\n",
       "      <th></th>\n",
       "      <th>PC_0</th>\n",
       "      <th>PC_1</th>\n",
       "      <th>PC_2</th>\n",
       "      <th>PC_3</th>\n",
       "      <th>PC_4</th>\n",
       "      <th>PC_5</th>\n",
       "    </tr>\n",
       "  </thead>\n",
       "  <tbody>\n",
       "    <tr>\n",
       "      <th>BALANCE</th>\n",
       "      <td>-0.144662</td>\n",
       "      <td>0.387557</td>\n",
       "      <td>-0.119601</td>\n",
       "      <td>-0.111047</td>\n",
       "      <td>-0.123326</td>\n",
       "      <td>0.116234</td>\n",
       "    </tr>\n",
       "    <tr>\n",
       "      <th>BALANCE_FREQUENCY</th>\n",
       "      <td>-0.016479</td>\n",
       "      <td>0.298761</td>\n",
       "      <td>-0.178288</td>\n",
       "      <td>0.014098</td>\n",
       "      <td>-0.211666</td>\n",
       "      <td>0.436920</td>\n",
       "    </tr>\n",
       "    <tr>\n",
       "      <th>PURCHASES</th>\n",
       "      <td>0.312377</td>\n",
       "      <td>0.173386</td>\n",
       "      <td>-0.015731</td>\n",
       "      <td>-0.048341</td>\n",
       "      <td>0.157348</td>\n",
       "      <td>-0.060155</td>\n",
       "    </tr>\n",
       "    <tr>\n",
       "      <th>ONEOFF_PURCHASES</th>\n",
       "      <td>0.178951</td>\n",
       "      <td>0.229773</td>\n",
       "      <td>0.156819</td>\n",
       "      <td>-0.435435</td>\n",
       "      <td>0.253131</td>\n",
       "      <td>0.017886</td>\n",
       "    </tr>\n",
       "    <tr>\n",
       "      <th>INSTALLMENTS_PURCHASES</th>\n",
       "      <td>0.267605</td>\n",
       "      <td>0.121040</td>\n",
       "      <td>-0.132085</td>\n",
       "      <td>0.395632</td>\n",
       "      <td>-0.038459</td>\n",
       "      <td>-0.122548</td>\n",
       "    </tr>\n",
       "    <tr>\n",
       "      <th>CASH_ADVANCE</th>\n",
       "      <td>-0.282725</td>\n",
       "      <td>0.197232</td>\n",
       "      <td>0.178242</td>\n",
       "      <td>0.180715</td>\n",
       "      <td>0.138206</td>\n",
       "      <td>-0.071072</td>\n",
       "    </tr>\n",
       "    <tr>\n",
       "      <th>PURCHASES_FREQUENCY</th>\n",
       "      <td>0.304867</td>\n",
       "      <td>0.162305</td>\n",
       "      <td>-0.097524</td>\n",
       "      <td>0.213353</td>\n",
       "      <td>0.099590</td>\n",
       "      <td>0.002414</td>\n",
       "    </tr>\n",
       "    <tr>\n",
       "      <th>ONEOFF_PURCHASES_FREQUENCY</th>\n",
       "      <td>0.183314</td>\n",
       "      <td>0.227807</td>\n",
       "      <td>0.170135</td>\n",
       "      <td>-0.364433</td>\n",
       "      <td>0.219648</td>\n",
       "      <td>0.082384</td>\n",
       "    </tr>\n",
       "    <tr>\n",
       "      <th>PURCHASES_INSTALLMENTS_FREQUENCY</th>\n",
       "      <td>0.254453</td>\n",
       "      <td>0.114009</td>\n",
       "      <td>-0.170659</td>\n",
       "      <td>0.448480</td>\n",
       "      <td>-0.032153</td>\n",
       "      <td>-0.075938</td>\n",
       "    </tr>\n",
       "    <tr>\n",
       "      <th>CASH_ADVANCE_FREQUENCY</th>\n",
       "      <td>-0.246611</td>\n",
       "      <td>0.213931</td>\n",
       "      <td>0.181451</td>\n",
       "      <td>0.210783</td>\n",
       "      <td>0.203431</td>\n",
       "      <td>-0.055692</td>\n",
       "    </tr>\n",
       "    <tr>\n",
       "      <th>CASH_ADVANCE_TRX</th>\n",
       "      <td>-0.264110</td>\n",
       "      <td>0.221337</td>\n",
       "      <td>0.178522</td>\n",
       "      <td>0.207784</td>\n",
       "      <td>0.169353</td>\n",
       "      <td>-0.081620</td>\n",
       "    </tr>\n",
       "    <tr>\n",
       "      <th>PURCHASES_TRX</th>\n",
       "      <td>0.309090</td>\n",
       "      <td>0.212162</td>\n",
       "      <td>-0.048191</td>\n",
       "      <td>0.083519</td>\n",
       "      <td>0.098504</td>\n",
       "      <td>-0.049535</td>\n",
       "    </tr>\n",
       "    <tr>\n",
       "      <th>CREDIT_LIMIT</th>\n",
       "      <td>0.035595</td>\n",
       "      <td>0.203215</td>\n",
       "      <td>0.261724</td>\n",
       "      <td>-0.102357</td>\n",
       "      <td>-0.165378</td>\n",
       "      <td>-0.586613</td>\n",
       "    </tr>\n",
       "    <tr>\n",
       "      <th>PAYMENTS</th>\n",
       "      <td>0.035862</td>\n",
       "      <td>0.280426</td>\n",
       "      <td>0.316873</td>\n",
       "      <td>0.048139</td>\n",
       "      <td>-0.399746</td>\n",
       "      <td>0.261667</td>\n",
       "    </tr>\n",
       "    <tr>\n",
       "      <th>MINIMUM_PAYMENTS</th>\n",
       "      <td>-0.129179</td>\n",
       "      <td>0.330027</td>\n",
       "      <td>-0.266649</td>\n",
       "      <td>-0.065138</td>\n",
       "      <td>-0.127607</td>\n",
       "      <td>-0.171647</td>\n",
       "    </tr>\n",
       "    <tr>\n",
       "      <th>PRC_FULL_PAYMENT</th>\n",
       "      <td>0.171670</td>\n",
       "      <td>-0.099260</td>\n",
       "      <td>0.279142</td>\n",
       "      <td>0.206422</td>\n",
       "      <td>-0.130293</td>\n",
       "      <td>0.219509</td>\n",
       "    </tr>\n",
       "    <tr>\n",
       "      <th>TENURE</th>\n",
       "      <td>0.044348</td>\n",
       "      <td>0.072668</td>\n",
       "      <td>-0.018541</td>\n",
       "      <td>-0.151180</td>\n",
       "      <td>-0.617022</td>\n",
       "      <td>-0.349502</td>\n",
       "    </tr>\n",
       "    <tr>\n",
       "      <th>Monthly_ap</th>\n",
       "      <td>0.307448</td>\n",
       "      <td>0.203673</td>\n",
       "      <td>0.014769</td>\n",
       "      <td>-0.044128</td>\n",
       "      <td>0.166727</td>\n",
       "      <td>-0.021188</td>\n",
       "    </tr>\n",
       "    <tr>\n",
       "      <th>Monthly_ca</th>\n",
       "      <td>-0.277518</td>\n",
       "      <td>0.202738</td>\n",
       "      <td>0.193319</td>\n",
       "      <td>0.194495</td>\n",
       "      <td>0.158734</td>\n",
       "      <td>-0.084296</td>\n",
       "    </tr>\n",
       "    <tr>\n",
       "      <th>limit_usage_ratio</th>\n",
       "      <td>-0.194318</td>\n",
       "      <td>0.257264</td>\n",
       "      <td>-0.315933</td>\n",
       "      <td>-0.064156</td>\n",
       "      <td>-0.044664</td>\n",
       "      <td>0.254373</td>\n",
       "    </tr>\n",
       "    <tr>\n",
       "      <th>payment_minpayment_ratio</th>\n",
       "      <td>0.142383</td>\n",
       "      <td>-0.019231</td>\n",
       "      <td>0.538031</td>\n",
       "      <td>0.076870</td>\n",
       "      <td>-0.188407</td>\n",
       "      <td>0.249324</td>\n",
       "    </tr>\n",
       "  </tbody>\n",
       "</table>\n",
       "</div>"
      ],
      "text/plain": [
       "                                      PC_0      PC_1      PC_2      PC_3  \\\n",
       "BALANCE                          -0.144662  0.387557 -0.119601 -0.111047   \n",
       "BALANCE_FREQUENCY                -0.016479  0.298761 -0.178288  0.014098   \n",
       "PURCHASES                         0.312377  0.173386 -0.015731 -0.048341   \n",
       "ONEOFF_PURCHASES                  0.178951  0.229773  0.156819 -0.435435   \n",
       "INSTALLMENTS_PURCHASES            0.267605  0.121040 -0.132085  0.395632   \n",
       "CASH_ADVANCE                     -0.282725  0.197232  0.178242  0.180715   \n",
       "PURCHASES_FREQUENCY               0.304867  0.162305 -0.097524  0.213353   \n",
       "ONEOFF_PURCHASES_FREQUENCY        0.183314  0.227807  0.170135 -0.364433   \n",
       "PURCHASES_INSTALLMENTS_FREQUENCY  0.254453  0.114009 -0.170659  0.448480   \n",
       "CASH_ADVANCE_FREQUENCY           -0.246611  0.213931  0.181451  0.210783   \n",
       "CASH_ADVANCE_TRX                 -0.264110  0.221337  0.178522  0.207784   \n",
       "PURCHASES_TRX                     0.309090  0.212162 -0.048191  0.083519   \n",
       "CREDIT_LIMIT                      0.035595  0.203215  0.261724 -0.102357   \n",
       "PAYMENTS                          0.035862  0.280426  0.316873  0.048139   \n",
       "MINIMUM_PAYMENTS                 -0.129179  0.330027 -0.266649 -0.065138   \n",
       "PRC_FULL_PAYMENT                  0.171670 -0.099260  0.279142  0.206422   \n",
       "TENURE                            0.044348  0.072668 -0.018541 -0.151180   \n",
       "Monthly_ap                        0.307448  0.203673  0.014769 -0.044128   \n",
       "Monthly_ca                       -0.277518  0.202738  0.193319  0.194495   \n",
       "limit_usage_ratio                -0.194318  0.257264 -0.315933 -0.064156   \n",
       "payment_minpayment_ratio          0.142383 -0.019231  0.538031  0.076870   \n",
       "\n",
       "                                      PC_4      PC_5  \n",
       "BALANCE                          -0.123326  0.116234  \n",
       "BALANCE_FREQUENCY                -0.211666  0.436920  \n",
       "PURCHASES                         0.157348 -0.060155  \n",
       "ONEOFF_PURCHASES                  0.253131  0.017886  \n",
       "INSTALLMENTS_PURCHASES           -0.038459 -0.122548  \n",
       "CASH_ADVANCE                      0.138206 -0.071072  \n",
       "PURCHASES_FREQUENCY               0.099590  0.002414  \n",
       "ONEOFF_PURCHASES_FREQUENCY        0.219648  0.082384  \n",
       "PURCHASES_INSTALLMENTS_FREQUENCY -0.032153 -0.075938  \n",
       "CASH_ADVANCE_FREQUENCY            0.203431 -0.055692  \n",
       "CASH_ADVANCE_TRX                  0.169353 -0.081620  \n",
       "PURCHASES_TRX                     0.098504 -0.049535  \n",
       "CREDIT_LIMIT                     -0.165378 -0.586613  \n",
       "PAYMENTS                         -0.399746  0.261667  \n",
       "MINIMUM_PAYMENTS                 -0.127607 -0.171647  \n",
       "PRC_FULL_PAYMENT                 -0.130293  0.219509  \n",
       "TENURE                           -0.617022 -0.349502  \n",
       "Monthly_ap                        0.166727 -0.021188  \n",
       "Monthly_ca                        0.158734 -0.084296  \n",
       "limit_usage_ratio                -0.044664  0.254373  \n",
       "payment_minpayment_ratio         -0.188407  0.249324  "
      ]
     },
     "execution_count": 17,
     "metadata": {},
     "output_type": "execute_result"
    }
   ],
   "source": [
    "pd.DataFrame(pc_final.components_.T,columns=['PC_' +str(i) for i in range(6)],index=col_list)"
   ]
  },
  {
   "cell_type": "code",
   "execution_count": 18,
   "metadata": {},
   "outputs": [
    {
     "data": {
      "text/plain": [
       "Index(['BALANCE', 'BALANCE_FREQUENCY', 'PURCHASES', 'ONEOFF_PURCHASES',\n",
       "       'INSTALLMENTS_PURCHASES', 'CASH_ADVANCE', 'PURCHASES_FREQUENCY',\n",
       "       'ONEOFF_PURCHASES_FREQUENCY', 'PURCHASES_INSTALLMENTS_FREQUENCY',\n",
       "       'CASH_ADVANCE_FREQUENCY', 'CASH_ADVANCE_TRX', 'PURCHASES_TRX',\n",
       "       'CREDIT_LIMIT', 'PAYMENTS', 'MINIMUM_PAYMENTS', 'PRC_FULL_PAYMENT',\n",
       "       'TENURE', 'Monthly_ap', 'Monthly_ca', 'limit_usage_ratio',\n",
       "       'payment_minpayment_ratio'],\n",
       "      dtype='object')"
      ]
     },
     "execution_count": 18,
     "metadata": {},
     "output_type": "execute_result"
    }
   ],
   "source": [
    "credit_card_data_log.columns"
   ]
  },
  {
   "cell_type": "code",
   "execution_count": 19,
   "metadata": {},
   "outputs": [],
   "source": [
    "# Removing the variables used for deriving KPIs\n",
    "my_vars=['BALANCE_FREQUENCY','ONEOFF_PURCHASES','INSTALLMENTS_PURCHASES','PURCHASES_FREQUENCY','ONEOFF_PURCHASES_FREQUENCY', 'PURCHASES_INSTALLMENTS_FREQUENCY','CASH_ADVANCE_FREQUENCY', 'CASH_ADVANCE_TRX', 'PURCHASES_TRX',\n",
    "        'PRC_FULL_PAYMENT','Monthly_ap', 'Monthly_ca', 'limit_usage_ratio','payment_minpayment_ratio']"
   ]
  },
  {
   "cell_type": "markdown",
   "metadata": {},
   "source": [
    "# Clustering using K-means"
   ]
  },
  {
   "cell_type": "code",
   "execution_count": 20,
   "metadata": {},
   "outputs": [],
   "source": [
    "from sklearn.cluster import KMeans"
   ]
  },
  {
   "cell_type": "markdown",
   "metadata": {},
   "source": [
    "# 4 Cluster Solution"
   ]
  },
  {
   "cell_type": "code",
   "execution_count": 21,
   "metadata": {},
   "outputs": [],
   "source": [
    "km_4=KMeans(n_clusters=4,random_state=123)"
   ]
  },
  {
   "cell_type": "code",
   "execution_count": 22,
   "metadata": {
    "scrolled": false
   },
   "outputs": [
    {
     "data": {
      "text/plain": [
       "KMeans(algorithm='auto', copy_x=True, init='k-means++', max_iter=300,\n",
       "    n_clusters=4, n_init=10, n_jobs=1, precompute_distances='auto',\n",
       "    random_state=123, tol=0.0001, verbose=0)"
      ]
     },
     "execution_count": 22,
     "metadata": {},
     "output_type": "execute_result"
    }
   ],
   "source": [
    "km_4.fit(reduced_cr)"
   ]
  },
  {
   "cell_type": "code",
   "execution_count": 23,
   "metadata": {
    "scrolled": true
   },
   "outputs": [
    {
     "data": {
      "text/plain": [
       "array([3, 1, 0, ..., 3, 1, 2])"
      ]
     },
     "execution_count": 23,
     "metadata": {},
     "output_type": "execute_result"
    }
   ],
   "source": [
    "km_4.labels_"
   ]
  },
  {
   "cell_type": "code",
   "execution_count": 24,
   "metadata": {
    "scrolled": true
   },
   "outputs": [
    {
     "data": {
      "text/plain": [
       "3    2474\n",
       "1    2458\n",
       "0    2436\n",
       "2    1582\n",
       "dtype: int64"
      ]
     },
     "execution_count": 24,
     "metadata": {},
     "output_type": "execute_result"
    }
   ],
   "source": [
    "pd.Series(km_4.labels_).value_counts()"
   ]
  },
  {
   "cell_type": "code",
   "execution_count": 25,
   "metadata": {},
   "outputs": [],
   "source": [
    "C4=pd.concat([credit_card_data_log[my_vars],pd.Series(km_4.labels_,name='cluster_4')],axis=1)"
   ]
  },
  {
   "cell_type": "code",
   "execution_count": 26,
   "metadata": {},
   "outputs": [
    {
     "data": {
      "text/html": [
       "<div>\n",
       "<style scoped>\n",
       "    .dataframe tbody tr th:only-of-type {\n",
       "        vertical-align: middle;\n",
       "    }\n",
       "\n",
       "    .dataframe tbody tr th {\n",
       "        vertical-align: top;\n",
       "    }\n",
       "\n",
       "    .dataframe thead th {\n",
       "        text-align: right;\n",
       "    }\n",
       "</style>\n",
       "<table border=\"1\" class=\"dataframe\">\n",
       "  <thead>\n",
       "    <tr style=\"text-align: right;\">\n",
       "      <th></th>\n",
       "      <th>BALANCE_FREQUENCY</th>\n",
       "      <th>ONEOFF_PURCHASES</th>\n",
       "      <th>INSTALLMENTS_PURCHASES</th>\n",
       "      <th>PURCHASES_FREQUENCY</th>\n",
       "      <th>ONEOFF_PURCHASES_FREQUENCY</th>\n",
       "      <th>PURCHASES_INSTALLMENTS_FREQUENCY</th>\n",
       "      <th>CASH_ADVANCE_FREQUENCY</th>\n",
       "      <th>CASH_ADVANCE_TRX</th>\n",
       "      <th>PURCHASES_TRX</th>\n",
       "      <th>PRC_FULL_PAYMENT</th>\n",
       "      <th>Monthly_ap</th>\n",
       "      <th>Monthly_ca</th>\n",
       "      <th>limit_usage_ratio</th>\n",
       "      <th>payment_minpayment_ratio</th>\n",
       "      <th>cluster_4</th>\n",
       "    </tr>\n",
       "  </thead>\n",
       "  <tbody>\n",
       "    <tr>\n",
       "      <th>0</th>\n",
       "      <td>0.597837</td>\n",
       "      <td>0.000000</td>\n",
       "      <td>4.568506</td>\n",
       "      <td>0.154151</td>\n",
       "      <td>0.000000</td>\n",
       "      <td>0.080042</td>\n",
       "      <td>0.000000</td>\n",
       "      <td>0.000000</td>\n",
       "      <td>1.098612</td>\n",
       "      <td>0.000000</td>\n",
       "      <td>2.191654</td>\n",
       "      <td>0.000000</td>\n",
       "      <td>0.040086</td>\n",
       "      <td>0.894662</td>\n",
       "      <td>3</td>\n",
       "    </tr>\n",
       "    <tr>\n",
       "      <th>1</th>\n",
       "      <td>0.646627</td>\n",
       "      <td>0.000000</td>\n",
       "      <td>0.000000</td>\n",
       "      <td>0.000000</td>\n",
       "      <td>0.000000</td>\n",
       "      <td>0.000000</td>\n",
       "      <td>0.223144</td>\n",
       "      <td>1.609438</td>\n",
       "      <td>0.000000</td>\n",
       "      <td>0.200671</td>\n",
       "      <td>0.000000</td>\n",
       "      <td>6.287695</td>\n",
       "      <td>0.376719</td>\n",
       "      <td>1.574068</td>\n",
       "      <td>1</td>\n",
       "    </tr>\n",
       "    <tr>\n",
       "      <th>2</th>\n",
       "      <td>0.693147</td>\n",
       "      <td>6.651791</td>\n",
       "      <td>0.000000</td>\n",
       "      <td>0.693147</td>\n",
       "      <td>0.693147</td>\n",
       "      <td>0.000000</td>\n",
       "      <td>0.000000</td>\n",
       "      <td>0.000000</td>\n",
       "      <td>2.564949</td>\n",
       "      <td>0.000000</td>\n",
       "      <td>4.180994</td>\n",
       "      <td>0.000000</td>\n",
       "      <td>0.287197</td>\n",
       "      <td>0.688979</td>\n",
       "      <td>0</td>\n",
       "    </tr>\n",
       "    <tr>\n",
       "      <th>3</th>\n",
       "      <td>0.492477</td>\n",
       "      <td>7.313220</td>\n",
       "      <td>0.000000</td>\n",
       "      <td>0.080042</td>\n",
       "      <td>0.080042</td>\n",
       "      <td>0.000000</td>\n",
       "      <td>0.080042</td>\n",
       "      <td>0.693147</td>\n",
       "      <td>0.693147</td>\n",
       "      <td>0.000000</td>\n",
       "      <td>4.835620</td>\n",
       "      <td>2.898616</td>\n",
       "      <td>0.200671</td>\n",
       "      <td>0.000000</td>\n",
       "      <td>3</td>\n",
       "    </tr>\n",
       "    <tr>\n",
       "      <th>4</th>\n",
       "      <td>0.693147</td>\n",
       "      <td>2.833213</td>\n",
       "      <td>0.000000</td>\n",
       "      <td>0.080042</td>\n",
       "      <td>0.080042</td>\n",
       "      <td>0.000000</td>\n",
       "      <td>0.000000</td>\n",
       "      <td>0.000000</td>\n",
       "      <td>0.693147</td>\n",
       "      <td>0.000000</td>\n",
       "      <td>0.847298</td>\n",
       "      <td>0.000000</td>\n",
       "      <td>0.519644</td>\n",
       "      <td>1.327360</td>\n",
       "      <td>1</td>\n",
       "    </tr>\n",
       "  </tbody>\n",
       "</table>\n",
       "</div>"
      ],
      "text/plain": [
       "   BALANCE_FREQUENCY  ONEOFF_PURCHASES  INSTALLMENTS_PURCHASES  \\\n",
       "0           0.597837          0.000000                4.568506   \n",
       "1           0.646627          0.000000                0.000000   \n",
       "2           0.693147          6.651791                0.000000   \n",
       "3           0.492477          7.313220                0.000000   \n",
       "4           0.693147          2.833213                0.000000   \n",
       "\n",
       "   PURCHASES_FREQUENCY  ONEOFF_PURCHASES_FREQUENCY  \\\n",
       "0             0.154151                    0.000000   \n",
       "1             0.000000                    0.000000   \n",
       "2             0.693147                    0.693147   \n",
       "3             0.080042                    0.080042   \n",
       "4             0.080042                    0.080042   \n",
       "\n",
       "   PURCHASES_INSTALLMENTS_FREQUENCY  CASH_ADVANCE_FREQUENCY  CASH_ADVANCE_TRX  \\\n",
       "0                          0.080042                0.000000          0.000000   \n",
       "1                          0.000000                0.223144          1.609438   \n",
       "2                          0.000000                0.000000          0.000000   \n",
       "3                          0.000000                0.080042          0.693147   \n",
       "4                          0.000000                0.000000          0.000000   \n",
       "\n",
       "   PURCHASES_TRX  PRC_FULL_PAYMENT  Monthly_ap  Monthly_ca  limit_usage_ratio  \\\n",
       "0       1.098612          0.000000    2.191654    0.000000           0.040086   \n",
       "1       0.000000          0.200671    0.000000    6.287695           0.376719   \n",
       "2       2.564949          0.000000    4.180994    0.000000           0.287197   \n",
       "3       0.693147          0.000000    4.835620    2.898616           0.200671   \n",
       "4       0.693147          0.000000    0.847298    0.000000           0.519644   \n",
       "\n",
       "   payment_minpayment_ratio  cluster_4  \n",
       "0                  0.894662          3  \n",
       "1                  1.574068          1  \n",
       "2                  0.688979          0  \n",
       "3                  0.000000          3  \n",
       "4                  1.327360          1  "
      ]
     },
     "execution_count": 26,
     "metadata": {},
     "output_type": "execute_result"
    }
   ],
   "source": [
    "C4.head()"
   ]
  },
  {
   "cell_type": "code",
   "execution_count": 27,
   "metadata": {},
   "outputs": [],
   "source": [
    "# Mean value of each variable group by Cluster-4\n",
    "cluster_4_output=C4.groupby('cluster_4').apply(lambda x: x[my_vars].mean()).T"
   ]
  },
  {
   "cell_type": "code",
   "execution_count": 28,
   "metadata": {},
   "outputs": [
    {
     "data": {
      "text/html": [
       "<div>\n",
       "<style scoped>\n",
       "    .dataframe tbody tr th:only-of-type {\n",
       "        vertical-align: middle;\n",
       "    }\n",
       "\n",
       "    .dataframe tbody tr th {\n",
       "        vertical-align: top;\n",
       "    }\n",
       "\n",
       "    .dataframe thead th {\n",
       "        text-align: right;\n",
       "    }\n",
       "</style>\n",
       "<table border=\"1\" class=\"dataframe\">\n",
       "  <thead>\n",
       "    <tr style=\"text-align: right;\">\n",
       "      <th>cluster_4</th>\n",
       "      <th>0</th>\n",
       "      <th>1</th>\n",
       "      <th>2</th>\n",
       "      <th>3</th>\n",
       "    </tr>\n",
       "  </thead>\n",
       "  <tbody>\n",
       "    <tr>\n",
       "      <th>BALANCE_FREQUENCY</th>\n",
       "      <td>0.676489</td>\n",
       "      <td>0.639905</td>\n",
       "      <td>0.679667</td>\n",
       "      <td>0.506229</td>\n",
       "    </tr>\n",
       "    <tr>\n",
       "      <th>ONEOFF_PURCHASES</th>\n",
       "      <td>5.968092</td>\n",
       "      <td>0.722225</td>\n",
       "      <td>4.891764</td>\n",
       "      <td>1.869839</td>\n",
       "    </tr>\n",
       "    <tr>\n",
       "      <th>INSTALLMENTS_PURCHASES</th>\n",
       "      <td>5.110243</td>\n",
       "      <td>0.136660</td>\n",
       "      <td>4.569818</td>\n",
       "      <td>4.038034</td>\n",
       "    </tr>\n",
       "    <tr>\n",
       "      <th>PURCHASES_FREQUENCY</th>\n",
       "      <td>0.581066</td>\n",
       "      <td>0.021842</td>\n",
       "      <td>0.497312</td>\n",
       "      <td>0.395083</td>\n",
       "    </tr>\n",
       "    <tr>\n",
       "      <th>ONEOFF_PURCHASES_FREQUENCY</th>\n",
       "      <td>0.357382</td>\n",
       "      <td>0.016614</td>\n",
       "      <td>0.237140</td>\n",
       "      <td>0.054074</td>\n",
       "    </tr>\n",
       "    <tr>\n",
       "      <th>PURCHASES_INSTALLMENTS_FREQUENCY</th>\n",
       "      <td>0.414913</td>\n",
       "      <td>0.004695</td>\n",
       "      <td>0.362575</td>\n",
       "      <td>0.331963</td>\n",
       "    </tr>\n",
       "    <tr>\n",
       "      <th>CASH_ADVANCE_FREQUENCY</th>\n",
       "      <td>0.007542</td>\n",
       "      <td>0.225882</td>\n",
       "      <td>0.268864</td>\n",
       "      <td>0.006873</td>\n",
       "    </tr>\n",
       "    <tr>\n",
       "      <th>CASH_ADVANCE_TRX</th>\n",
       "      <td>0.067279</td>\n",
       "      <td>1.629820</td>\n",
       "      <td>1.901061</td>\n",
       "      <td>0.056500</td>\n",
       "    </tr>\n",
       "    <tr>\n",
       "      <th>PURCHASES_TRX</th>\n",
       "      <td>3.118831</td>\n",
       "      <td>0.179148</td>\n",
       "      <td>2.681810</td>\n",
       "      <td>1.890622</td>\n",
       "    </tr>\n",
       "    <tr>\n",
       "      <th>PRC_FULL_PAYMENT</th>\n",
       "      <td>0.172785</td>\n",
       "      <td>0.028833</td>\n",
       "      <td>0.030556</td>\n",
       "      <td>0.207587</td>\n",
       "    </tr>\n",
       "    <tr>\n",
       "      <th>Monthly_ap</th>\n",
       "      <td>4.836604</td>\n",
       "      <td>0.416937</td>\n",
       "      <td>4.264198</td>\n",
       "      <td>3.133625</td>\n",
       "    </tr>\n",
       "    <tr>\n",
       "      <th>Monthly_ca</th>\n",
       "      <td>0.225737</td>\n",
       "      <td>4.359313</td>\n",
       "      <td>4.813015</td>\n",
       "      <td>0.197355</td>\n",
       "    </tr>\n",
       "    <tr>\n",
       "      <th>limit_usage_ratio</th>\n",
       "      <td>0.264062</td>\n",
       "      <td>0.446963</td>\n",
       "      <td>0.460037</td>\n",
       "      <td>0.072860</td>\n",
       "    </tr>\n",
       "    <tr>\n",
       "      <th>payment_minpayment_ratio</th>\n",
       "      <td>1.721630</td>\n",
       "      <td>1.075376</td>\n",
       "      <td>1.129546</td>\n",
       "      <td>1.425390</td>\n",
       "    </tr>\n",
       "  </tbody>\n",
       "</table>\n",
       "</div>"
      ],
      "text/plain": [
       "cluster_4                                0         1         2         3\n",
       "BALANCE_FREQUENCY                 0.676489  0.639905  0.679667  0.506229\n",
       "ONEOFF_PURCHASES                  5.968092  0.722225  4.891764  1.869839\n",
       "INSTALLMENTS_PURCHASES            5.110243  0.136660  4.569818  4.038034\n",
       "PURCHASES_FREQUENCY               0.581066  0.021842  0.497312  0.395083\n",
       "ONEOFF_PURCHASES_FREQUENCY        0.357382  0.016614  0.237140  0.054074\n",
       "PURCHASES_INSTALLMENTS_FREQUENCY  0.414913  0.004695  0.362575  0.331963\n",
       "CASH_ADVANCE_FREQUENCY            0.007542  0.225882  0.268864  0.006873\n",
       "CASH_ADVANCE_TRX                  0.067279  1.629820  1.901061  0.056500\n",
       "PURCHASES_TRX                     3.118831  0.179148  2.681810  1.890622\n",
       "PRC_FULL_PAYMENT                  0.172785  0.028833  0.030556  0.207587\n",
       "Monthly_ap                        4.836604  0.416937  4.264198  3.133625\n",
       "Monthly_ca                        0.225737  4.359313  4.813015  0.197355\n",
       "limit_usage_ratio                 0.264062  0.446963  0.460037  0.072860\n",
       "payment_minpayment_ratio          1.721630  1.075376  1.129546  1.425390"
      ]
     },
     "execution_count": 28,
     "metadata": {},
     "output_type": "execute_result"
    }
   ],
   "source": [
    "cluster_4_output"
   ]
  },
  {
   "cell_type": "code",
   "execution_count": 29,
   "metadata": {},
   "outputs": [
    {
     "data": {
      "text/plain": [
       "BALANCE                             6.161637\n",
       "BALANCE_FREQUENCY                   0.619940\n",
       "PURCHASES                           4.899647\n",
       "ONEOFF_PURCHASES                    3.204274\n",
       "INSTALLMENTS_PURCHASES              3.352403\n",
       "CASH_ADVANCE                        3.319086\n",
       "PURCHASES_FREQUENCY                 0.361268\n",
       "ONEOFF_PURCHASES_FREQUENCY          0.158699\n",
       "PURCHASES_INSTALLMENTS_FREQUENCY    0.270072\n",
       "CASH_ADVANCE_FREQUENCY              0.113512\n",
       "CASH_ADVANCE_TRX                    0.817570\n",
       "PURCHASES_TRX                       1.894731\n",
       "CREDIT_LIMIT                        8.094825\n",
       "PAYMENTS                            6.624540\n",
       "MINIMUM_PAYMENTS                    5.916079\n",
       "PRC_FULL_PAYMENT                    0.117730\n",
       "TENURE                              2.519680\n",
       "Monthly_ap                          3.050877\n",
       "Monthly_ca                          2.163970\n",
       "limit_usage_ratio                   0.296081\n",
       "payment_minpayment_ratio            1.357600\n",
       "dtype: float64"
      ]
     },
     "execution_count": 29,
     "metadata": {},
     "output_type": "execute_result"
    }
   ],
   "source": [
    "# Mean of variables\n",
    "my_vars_means=credit_card_data_log.mean()\n",
    "my_vars_means"
   ]
  },
  {
   "cell_type": "code",
   "execution_count": 30,
   "metadata": {},
   "outputs": [
    {
     "data": {
      "text/plain": [
       "BALANCE                             6.773521\n",
       "BALANCE_FREQUENCY                   0.693147\n",
       "PURCHASES                           5.892417\n",
       "ONEOFF_PURCHASES                    3.663562\n",
       "INSTALLMENTS_PURCHASES              4.499810\n",
       "CASH_ADVANCE                        0.000000\n",
       "PURCHASES_FREQUENCY                 0.405465\n",
       "ONEOFF_PURCHASES_FREQUENCY          0.080042\n",
       "PURCHASES_INSTALLMENTS_FREQUENCY    0.154151\n",
       "CASH_ADVANCE_FREQUENCY              0.000000\n",
       "CASH_ADVANCE_TRX                    0.000000\n",
       "PURCHASES_TRX                       2.079442\n",
       "CREDIT_LIMIT                        8.006701\n",
       "PAYMENTS                            6.754489\n",
       "MINIMUM_PAYMENTS                    5.747301\n",
       "PRC_FULL_PAYMENT                    0.000000\n",
       "TENURE                              2.564949\n",
       "Monthly_ap                          3.494587\n",
       "Monthly_ca                          0.000000\n",
       "limit_usage_ratio                   0.264455\n",
       "payment_minpayment_ratio            1.109459\n",
       "dtype: float64"
      ]
     },
     "execution_count": 30,
     "metadata": {},
     "output_type": "execute_result"
    }
   ],
   "source": [
    "# Mode of variables\n",
    "my_vars_median=credit_card_data_log.median()\n",
    "my_vars_median"
   ]
  },
  {
   "cell_type": "code",
   "execution_count": 31,
   "metadata": {},
   "outputs": [
    {
     "name": "stdout",
     "output_type": "stream",
     "text": [
      "Cluster 4\n",
      "   Size  Percentage\n",
      "0  2436   27.217877\n",
      "1  2458   27.463687\n",
      "2  1582   17.675978\n",
      "3  2474   27.642458\n"
     ]
    }
   ],
   "source": [
    "# Share of each cluster\n",
    "\n",
    "s=C4.groupby('cluster_4').apply(lambda x: x['cluster_4'].value_counts())\n",
    "per=pd.Series((s.values.astype('float')/ C4['cluster_4'].shape[0])*100,name='Percentage')\n",
    "print (\"Cluster 4\")\n",
    "print (pd.concat ([pd.Series(s.values,name='Size'),per],axis=1))"
   ]
  },
  {
   "cell_type": "markdown",
   "metadata": {},
   "source": [
    "# 5 Cluster Solution"
   ]
  },
  {
   "cell_type": "code",
   "execution_count": 32,
   "metadata": {},
   "outputs": [],
   "source": [
    "km_5=KMeans(n_clusters=5,random_state=123)"
   ]
  },
  {
   "cell_type": "code",
   "execution_count": 33,
   "metadata": {},
   "outputs": [
    {
     "data": {
      "text/plain": [
       "KMeans(algorithm='auto', copy_x=True, init='k-means++', max_iter=300,\n",
       "    n_clusters=5, n_init=10, n_jobs=1, precompute_distances='auto',\n",
       "    random_state=123, tol=0.0001, verbose=0)"
      ]
     },
     "execution_count": 33,
     "metadata": {},
     "output_type": "execute_result"
    }
   ],
   "source": [
    "km_5.fit(reduced_cr)"
   ]
  },
  {
   "cell_type": "code",
   "execution_count": 34,
   "metadata": {},
   "outputs": [
    {
     "data": {
      "text/plain": [
       "array([0, 4, 2, ..., 0, 4, 1])"
      ]
     },
     "execution_count": 34,
     "metadata": {},
     "output_type": "execute_result"
    }
   ],
   "source": [
    "km_5.labels_"
   ]
  },
  {
   "cell_type": "code",
   "execution_count": 35,
   "metadata": {},
   "outputs": [
    {
     "data": {
      "text/plain": [
       "4    2344\n",
       "0    2040\n",
       "3    1577\n",
       "2    1533\n",
       "1    1456\n",
       "dtype: int64"
      ]
     },
     "execution_count": 35,
     "metadata": {},
     "output_type": "execute_result"
    }
   ],
   "source": [
    "pd.Series(km_5.labels_).value_counts()"
   ]
  },
  {
   "cell_type": "code",
   "execution_count": 36,
   "metadata": {},
   "outputs": [],
   "source": [
    "C5=pd.concat([credit_card_data_log[my_vars],pd.Series(km_5.labels_,name='cluster_5')],axis=1)"
   ]
  },
  {
   "cell_type": "code",
   "execution_count": 37,
   "metadata": {},
   "outputs": [
    {
     "data": {
      "text/html": [
       "<div>\n",
       "<style scoped>\n",
       "    .dataframe tbody tr th:only-of-type {\n",
       "        vertical-align: middle;\n",
       "    }\n",
       "\n",
       "    .dataframe tbody tr th {\n",
       "        vertical-align: top;\n",
       "    }\n",
       "\n",
       "    .dataframe thead th {\n",
       "        text-align: right;\n",
       "    }\n",
       "</style>\n",
       "<table border=\"1\" class=\"dataframe\">\n",
       "  <thead>\n",
       "    <tr style=\"text-align: right;\">\n",
       "      <th></th>\n",
       "      <th>BALANCE_FREQUENCY</th>\n",
       "      <th>ONEOFF_PURCHASES</th>\n",
       "      <th>INSTALLMENTS_PURCHASES</th>\n",
       "      <th>PURCHASES_FREQUENCY</th>\n",
       "      <th>ONEOFF_PURCHASES_FREQUENCY</th>\n",
       "      <th>PURCHASES_INSTALLMENTS_FREQUENCY</th>\n",
       "      <th>CASH_ADVANCE_FREQUENCY</th>\n",
       "      <th>CASH_ADVANCE_TRX</th>\n",
       "      <th>PURCHASES_TRX</th>\n",
       "      <th>PRC_FULL_PAYMENT</th>\n",
       "      <th>Monthly_ap</th>\n",
       "      <th>Monthly_ca</th>\n",
       "      <th>limit_usage_ratio</th>\n",
       "      <th>payment_minpayment_ratio</th>\n",
       "      <th>cluster_5</th>\n",
       "    </tr>\n",
       "  </thead>\n",
       "  <tbody>\n",
       "    <tr>\n",
       "      <th>0</th>\n",
       "      <td>0.597837</td>\n",
       "      <td>0.000000</td>\n",
       "      <td>4.568506</td>\n",
       "      <td>0.154151</td>\n",
       "      <td>0.000000</td>\n",
       "      <td>0.080042</td>\n",
       "      <td>0.000000</td>\n",
       "      <td>0.000000</td>\n",
       "      <td>1.098612</td>\n",
       "      <td>0.000000</td>\n",
       "      <td>2.191654</td>\n",
       "      <td>0.000000</td>\n",
       "      <td>0.040086</td>\n",
       "      <td>0.894662</td>\n",
       "      <td>0</td>\n",
       "    </tr>\n",
       "    <tr>\n",
       "      <th>1</th>\n",
       "      <td>0.646627</td>\n",
       "      <td>0.000000</td>\n",
       "      <td>0.000000</td>\n",
       "      <td>0.000000</td>\n",
       "      <td>0.000000</td>\n",
       "      <td>0.000000</td>\n",
       "      <td>0.223144</td>\n",
       "      <td>1.609438</td>\n",
       "      <td>0.000000</td>\n",
       "      <td>0.200671</td>\n",
       "      <td>0.000000</td>\n",
       "      <td>6.287695</td>\n",
       "      <td>0.376719</td>\n",
       "      <td>1.574068</td>\n",
       "      <td>4</td>\n",
       "    </tr>\n",
       "    <tr>\n",
       "      <th>2</th>\n",
       "      <td>0.693147</td>\n",
       "      <td>6.651791</td>\n",
       "      <td>0.000000</td>\n",
       "      <td>0.693147</td>\n",
       "      <td>0.693147</td>\n",
       "      <td>0.000000</td>\n",
       "      <td>0.000000</td>\n",
       "      <td>0.000000</td>\n",
       "      <td>2.564949</td>\n",
       "      <td>0.000000</td>\n",
       "      <td>4.180994</td>\n",
       "      <td>0.000000</td>\n",
       "      <td>0.287197</td>\n",
       "      <td>0.688979</td>\n",
       "      <td>2</td>\n",
       "    </tr>\n",
       "    <tr>\n",
       "      <th>3</th>\n",
       "      <td>0.492477</td>\n",
       "      <td>7.313220</td>\n",
       "      <td>0.000000</td>\n",
       "      <td>0.080042</td>\n",
       "      <td>0.080042</td>\n",
       "      <td>0.000000</td>\n",
       "      <td>0.080042</td>\n",
       "      <td>0.693147</td>\n",
       "      <td>0.693147</td>\n",
       "      <td>0.000000</td>\n",
       "      <td>4.835620</td>\n",
       "      <td>2.898616</td>\n",
       "      <td>0.200671</td>\n",
       "      <td>0.000000</td>\n",
       "      <td>2</td>\n",
       "    </tr>\n",
       "    <tr>\n",
       "      <th>4</th>\n",
       "      <td>0.693147</td>\n",
       "      <td>2.833213</td>\n",
       "      <td>0.000000</td>\n",
       "      <td>0.080042</td>\n",
       "      <td>0.080042</td>\n",
       "      <td>0.000000</td>\n",
       "      <td>0.000000</td>\n",
       "      <td>0.000000</td>\n",
       "      <td>0.693147</td>\n",
       "      <td>0.000000</td>\n",
       "      <td>0.847298</td>\n",
       "      <td>0.000000</td>\n",
       "      <td>0.519644</td>\n",
       "      <td>1.327360</td>\n",
       "      <td>2</td>\n",
       "    </tr>\n",
       "  </tbody>\n",
       "</table>\n",
       "</div>"
      ],
      "text/plain": [
       "   BALANCE_FREQUENCY  ONEOFF_PURCHASES  INSTALLMENTS_PURCHASES  \\\n",
       "0           0.597837          0.000000                4.568506   \n",
       "1           0.646627          0.000000                0.000000   \n",
       "2           0.693147          6.651791                0.000000   \n",
       "3           0.492477          7.313220                0.000000   \n",
       "4           0.693147          2.833213                0.000000   \n",
       "\n",
       "   PURCHASES_FREQUENCY  ONEOFF_PURCHASES_FREQUENCY  \\\n",
       "0             0.154151                    0.000000   \n",
       "1             0.000000                    0.000000   \n",
       "2             0.693147                    0.693147   \n",
       "3             0.080042                    0.080042   \n",
       "4             0.080042                    0.080042   \n",
       "\n",
       "   PURCHASES_INSTALLMENTS_FREQUENCY  CASH_ADVANCE_FREQUENCY  CASH_ADVANCE_TRX  \\\n",
       "0                          0.080042                0.000000          0.000000   \n",
       "1                          0.000000                0.223144          1.609438   \n",
       "2                          0.000000                0.000000          0.000000   \n",
       "3                          0.000000                0.080042          0.693147   \n",
       "4                          0.000000                0.000000          0.000000   \n",
       "\n",
       "   PURCHASES_TRX  PRC_FULL_PAYMENT  Monthly_ap  Monthly_ca  limit_usage_ratio  \\\n",
       "0       1.098612          0.000000    2.191654    0.000000           0.040086   \n",
       "1       0.000000          0.200671    0.000000    6.287695           0.376719   \n",
       "2       2.564949          0.000000    4.180994    0.000000           0.287197   \n",
       "3       0.693147          0.000000    4.835620    2.898616           0.200671   \n",
       "4       0.693147          0.000000    0.847298    0.000000           0.519644   \n",
       "\n",
       "   payment_minpayment_ratio  cluster_5  \n",
       "0                  0.894662          0  \n",
       "1                  1.574068          4  \n",
       "2                  0.688979          2  \n",
       "3                  0.000000          2  \n",
       "4                  1.327360          2  "
      ]
     },
     "execution_count": 37,
     "metadata": {},
     "output_type": "execute_result"
    }
   ],
   "source": [
    "C5.head(5)"
   ]
  },
  {
   "cell_type": "code",
   "execution_count": 38,
   "metadata": {},
   "outputs": [],
   "source": [
    "# Mean value of each variable group by Cluster-5\n",
    "cluster_5_output=C5.groupby('cluster_5').apply(lambda x: x[my_vars].mean()).T"
   ]
  },
  {
   "cell_type": "code",
   "execution_count": 39,
   "metadata": {},
   "outputs": [
    {
     "data": {
      "text/html": [
       "<div>\n",
       "<style scoped>\n",
       "    .dataframe tbody tr th:only-of-type {\n",
       "        vertical-align: middle;\n",
       "    }\n",
       "\n",
       "    .dataframe tbody tr th {\n",
       "        vertical-align: top;\n",
       "    }\n",
       "\n",
       "    .dataframe thead th {\n",
       "        text-align: right;\n",
       "    }\n",
       "</style>\n",
       "<table border=\"1\" class=\"dataframe\">\n",
       "  <thead>\n",
       "    <tr style=\"text-align: right;\">\n",
       "      <th>cluster_5</th>\n",
       "      <th>0</th>\n",
       "      <th>1</th>\n",
       "      <th>2</th>\n",
       "      <th>3</th>\n",
       "      <th>4</th>\n",
       "    </tr>\n",
       "  </thead>\n",
       "  <tbody>\n",
       "    <tr>\n",
       "      <th>BALANCE_FREQUENCY</th>\n",
       "      <td>0.471667</td>\n",
       "      <td>0.678981</td>\n",
       "      <td>0.684304</td>\n",
       "      <td>0.667514</td>\n",
       "      <td>0.638206</td>\n",
       "    </tr>\n",
       "    <tr>\n",
       "      <th>ONEOFF_PURCHASES</th>\n",
       "      <td>1.607545</td>\n",
       "      <td>5.002104</td>\n",
       "      <td>3.939956</td>\n",
       "      <td>6.798783</td>\n",
       "      <td>0.577715</td>\n",
       "    </tr>\n",
       "    <tr>\n",
       "      <th>INSTALLMENTS_PURCHASES</th>\n",
       "      <td>4.286509</td>\n",
       "      <td>4.596027</td>\n",
       "      <td>3.508009</td>\n",
       "      <td>5.659006</td>\n",
       "      <td>0.113348</td>\n",
       "    </tr>\n",
       "    <tr>\n",
       "      <th>PURCHASES_FREQUENCY</th>\n",
       "      <td>0.415385</td>\n",
       "      <td>0.500833</td>\n",
       "      <td>0.408998</td>\n",
       "      <td>0.627541</td>\n",
       "      <td>0.017117</td>\n",
       "    </tr>\n",
       "    <tr>\n",
       "      <th>ONEOFF_PURCHASES_FREQUENCY</th>\n",
       "      <td>0.045891</td>\n",
       "      <td>0.243639</td>\n",
       "      <td>0.162571</td>\n",
       "      <td>0.439020</td>\n",
       "      <td>0.012988</td>\n",
       "    </tr>\n",
       "    <tr>\n",
       "      <th>PURCHASES_INSTALLMENTS_FREQUENCY</th>\n",
       "      <td>0.358504</td>\n",
       "      <td>0.364993</td>\n",
       "      <td>0.276736</td>\n",
       "      <td>0.457608</td>\n",
       "      <td>0.003618</td>\n",
       "    </tr>\n",
       "    <tr>\n",
       "      <th>CASH_ADVANCE_FREQUENCY</th>\n",
       "      <td>0.007512</td>\n",
       "      <td>0.282348</td>\n",
       "      <td>0.013599</td>\n",
       "      <td>0.011279</td>\n",
       "      <td>0.235016</td>\n",
       "    </tr>\n",
       "    <tr>\n",
       "      <th>CASH_ADVANCE_TRX</th>\n",
       "      <td>0.061128</td>\n",
       "      <td>1.979969</td>\n",
       "      <td>0.124474</td>\n",
       "      <td>0.097832</td>\n",
       "      <td>1.691389</td>\n",
       "    </tr>\n",
       "    <tr>\n",
       "      <th>PURCHASES_TRX</th>\n",
       "      <td>1.934768</td>\n",
       "      <td>2.703849</td>\n",
       "      <td>2.180463</td>\n",
       "      <td>3.422792</td>\n",
       "      <td>0.142370</td>\n",
       "    </tr>\n",
       "    <tr>\n",
       "      <th>PRC_FULL_PAYMENT</th>\n",
       "      <td>0.246229</td>\n",
       "      <td>0.031699</td>\n",
       "      <td>0.010536</td>\n",
       "      <td>0.266333</td>\n",
       "      <td>0.029465</td>\n",
       "    </tr>\n",
       "    <tr>\n",
       "      <th>Monthly_ap</th>\n",
       "      <td>3.138795</td>\n",
       "      <td>4.313432</td>\n",
       "      <td>3.631110</td>\n",
       "      <td>5.240514</td>\n",
       "      <td>0.337485</td>\n",
       "    </tr>\n",
       "    <tr>\n",
       "      <th>Monthly_ca</th>\n",
       "      <td>0.217827</td>\n",
       "      <td>4.986686</td>\n",
       "      <td>0.354654</td>\n",
       "      <td>0.335501</td>\n",
       "      <td>4.517826</td>\n",
       "    </tr>\n",
       "    <tr>\n",
       "      <th>limit_usage_ratio</th>\n",
       "      <td>0.025604</td>\n",
       "      <td>0.453417</td>\n",
       "      <td>0.439501</td>\n",
       "      <td>0.145872</td>\n",
       "      <td>0.441008</td>\n",
       "    </tr>\n",
       "    <tr>\n",
       "      <th>payment_minpayment_ratio</th>\n",
       "      <td>1.538033</td>\n",
       "      <td>1.157878</td>\n",
       "      <td>0.807034</td>\n",
       "      <td>2.239053</td>\n",
       "      <td>1.091678</td>\n",
       "    </tr>\n",
       "  </tbody>\n",
       "</table>\n",
       "</div>"
      ],
      "text/plain": [
       "cluster_5                                0         1         2         3  \\\n",
       "BALANCE_FREQUENCY                 0.471667  0.678981  0.684304  0.667514   \n",
       "ONEOFF_PURCHASES                  1.607545  5.002104  3.939956  6.798783   \n",
       "INSTALLMENTS_PURCHASES            4.286509  4.596027  3.508009  5.659006   \n",
       "PURCHASES_FREQUENCY               0.415385  0.500833  0.408998  0.627541   \n",
       "ONEOFF_PURCHASES_FREQUENCY        0.045891  0.243639  0.162571  0.439020   \n",
       "PURCHASES_INSTALLMENTS_FREQUENCY  0.358504  0.364993  0.276736  0.457608   \n",
       "CASH_ADVANCE_FREQUENCY            0.007512  0.282348  0.013599  0.011279   \n",
       "CASH_ADVANCE_TRX                  0.061128  1.979969  0.124474  0.097832   \n",
       "PURCHASES_TRX                     1.934768  2.703849  2.180463  3.422792   \n",
       "PRC_FULL_PAYMENT                  0.246229  0.031699  0.010536  0.266333   \n",
       "Monthly_ap                        3.138795  4.313432  3.631110  5.240514   \n",
       "Monthly_ca                        0.217827  4.986686  0.354654  0.335501   \n",
       "limit_usage_ratio                 0.025604  0.453417  0.439501  0.145872   \n",
       "payment_minpayment_ratio          1.538033  1.157878  0.807034  2.239053   \n",
       "\n",
       "cluster_5                                4  \n",
       "BALANCE_FREQUENCY                 0.638206  \n",
       "ONEOFF_PURCHASES                  0.577715  \n",
       "INSTALLMENTS_PURCHASES            0.113348  \n",
       "PURCHASES_FREQUENCY               0.017117  \n",
       "ONEOFF_PURCHASES_FREQUENCY        0.012988  \n",
       "PURCHASES_INSTALLMENTS_FREQUENCY  0.003618  \n",
       "CASH_ADVANCE_FREQUENCY            0.235016  \n",
       "CASH_ADVANCE_TRX                  1.691389  \n",
       "PURCHASES_TRX                     0.142370  \n",
       "PRC_FULL_PAYMENT                  0.029465  \n",
       "Monthly_ap                        0.337485  \n",
       "Monthly_ca                        4.517826  \n",
       "limit_usage_ratio                 0.441008  \n",
       "payment_minpayment_ratio          1.091678  "
      ]
     },
     "execution_count": 39,
     "metadata": {},
     "output_type": "execute_result"
    }
   ],
   "source": [
    "cluster_5_output"
   ]
  },
  {
   "cell_type": "code",
   "execution_count": 40,
   "metadata": {},
   "outputs": [
    {
     "name": "stdout",
     "output_type": "stream",
     "text": [
      "\n",
      " cluster_5   \n",
      "0          0    2040\n",
      "1          1    1456\n",
      "2          2    1533\n",
      "3          3    1577\n",
      "4          4    2344\n",
      "Name: cluster_5, dtype: int64\n"
     ]
    }
   ],
   "source": [
    "s1=C5.groupby('cluster_5').apply(lambda x: x['cluster_5'].value_counts())\n",
    "print ('\\n',s1)"
   ]
  },
  {
   "cell_type": "code",
   "execution_count": 41,
   "metadata": {},
   "outputs": [
    {
     "name": "stdout",
     "output_type": "stream",
     "text": [
      "Cluster-5 \n",
      "\n",
      "   size  Percentage\n",
      "0  2040   22.793296\n",
      "1  1456   16.268156\n",
      "2  1533   17.128492\n",
      "3  1577   17.620112\n",
      "4  2344   26.189944\n"
     ]
    }
   ],
   "source": [
    "# percentage of each cluster\n",
    "print (\"Cluster-5\",'\\n')\n",
    "per_5=pd.Series((s1.values.astype('float')/C5.shape[0])*100,name='Percentage')\n",
    "print (pd.concat((pd.Series(s1.values,name='size'),per_5),axis=1))"
   ]
  },
  {
   "cell_type": "markdown",
   "metadata": {},
   "source": [
    "# 6 Cluster Solution"
   ]
  },
  {
   "cell_type": "code",
   "execution_count": 42,
   "metadata": {},
   "outputs": [],
   "source": [
    "km_6=KMeans(n_clusters=6,random_state=123)"
   ]
  },
  {
   "cell_type": "code",
   "execution_count": 43,
   "metadata": {},
   "outputs": [
    {
     "data": {
      "text/plain": [
       "KMeans(algorithm='auto', copy_x=True, init='k-means++', max_iter=300,\n",
       "    n_clusters=6, n_init=10, n_jobs=1, precompute_distances='auto',\n",
       "    random_state=123, tol=0.0001, verbose=0)"
      ]
     },
     "execution_count": 43,
     "metadata": {},
     "output_type": "execute_result"
    }
   ],
   "source": [
    "km_6.fit(reduced_cr)"
   ]
  },
  {
   "cell_type": "code",
   "execution_count": 44,
   "metadata": {},
   "outputs": [
    {
     "data": {
      "text/plain": [
       "array([2, 1, 3, ..., 5, 2, 4])"
      ]
     },
     "execution_count": 44,
     "metadata": {},
     "output_type": "execute_result"
    }
   ],
   "source": [
    "km_6.labels_"
   ]
  },
  {
   "cell_type": "code",
   "execution_count": 45,
   "metadata": {},
   "outputs": [
    {
     "data": {
      "text/plain": [
       "1    2233\n",
       "0    1484\n",
       "5    1455\n",
       "4    1431\n",
       "3    1428\n",
       "2     919\n",
       "dtype: int64"
      ]
     },
     "execution_count": 45,
     "metadata": {},
     "output_type": "execute_result"
    }
   ],
   "source": [
    "pd.Series(km_6.labels_).value_counts()"
   ]
  },
  {
   "cell_type": "code",
   "execution_count": 46,
   "metadata": {},
   "outputs": [],
   "source": [
    "C6=pd.concat([credit_card_data_log[my_vars],pd.Series(km_6.labels_,name='cluster_6')],axis=1)"
   ]
  },
  {
   "cell_type": "code",
   "execution_count": 47,
   "metadata": {},
   "outputs": [
    {
     "data": {
      "text/html": [
       "<div>\n",
       "<style scoped>\n",
       "    .dataframe tbody tr th:only-of-type {\n",
       "        vertical-align: middle;\n",
       "    }\n",
       "\n",
       "    .dataframe tbody tr th {\n",
       "        vertical-align: top;\n",
       "    }\n",
       "\n",
       "    .dataframe thead th {\n",
       "        text-align: right;\n",
       "    }\n",
       "</style>\n",
       "<table border=\"1\" class=\"dataframe\">\n",
       "  <thead>\n",
       "    <tr style=\"text-align: right;\">\n",
       "      <th></th>\n",
       "      <th>BALANCE_FREQUENCY</th>\n",
       "      <th>ONEOFF_PURCHASES</th>\n",
       "      <th>INSTALLMENTS_PURCHASES</th>\n",
       "      <th>PURCHASES_FREQUENCY</th>\n",
       "      <th>ONEOFF_PURCHASES_FREQUENCY</th>\n",
       "      <th>PURCHASES_INSTALLMENTS_FREQUENCY</th>\n",
       "      <th>CASH_ADVANCE_FREQUENCY</th>\n",
       "      <th>CASH_ADVANCE_TRX</th>\n",
       "      <th>PURCHASES_TRX</th>\n",
       "      <th>PRC_FULL_PAYMENT</th>\n",
       "      <th>Monthly_ap</th>\n",
       "      <th>Monthly_ca</th>\n",
       "      <th>limit_usage_ratio</th>\n",
       "      <th>payment_minpayment_ratio</th>\n",
       "      <th>cluster_6</th>\n",
       "    </tr>\n",
       "  </thead>\n",
       "  <tbody>\n",
       "    <tr>\n",
       "      <th>0</th>\n",
       "      <td>0.597837</td>\n",
       "      <td>0.000000</td>\n",
       "      <td>4.568506</td>\n",
       "      <td>0.154151</td>\n",
       "      <td>0.000000</td>\n",
       "      <td>0.080042</td>\n",
       "      <td>0.000000</td>\n",
       "      <td>0.000000</td>\n",
       "      <td>1.098612</td>\n",
       "      <td>0.000000</td>\n",
       "      <td>2.191654</td>\n",
       "      <td>0.000000</td>\n",
       "      <td>0.040086</td>\n",
       "      <td>0.894662</td>\n",
       "      <td>2</td>\n",
       "    </tr>\n",
       "    <tr>\n",
       "      <th>1</th>\n",
       "      <td>0.646627</td>\n",
       "      <td>0.000000</td>\n",
       "      <td>0.000000</td>\n",
       "      <td>0.000000</td>\n",
       "      <td>0.000000</td>\n",
       "      <td>0.000000</td>\n",
       "      <td>0.223144</td>\n",
       "      <td>1.609438</td>\n",
       "      <td>0.000000</td>\n",
       "      <td>0.200671</td>\n",
       "      <td>0.000000</td>\n",
       "      <td>6.287695</td>\n",
       "      <td>0.376719</td>\n",
       "      <td>1.574068</td>\n",
       "      <td>1</td>\n",
       "    </tr>\n",
       "    <tr>\n",
       "      <th>2</th>\n",
       "      <td>0.693147</td>\n",
       "      <td>6.651791</td>\n",
       "      <td>0.000000</td>\n",
       "      <td>0.693147</td>\n",
       "      <td>0.693147</td>\n",
       "      <td>0.000000</td>\n",
       "      <td>0.000000</td>\n",
       "      <td>0.000000</td>\n",
       "      <td>2.564949</td>\n",
       "      <td>0.000000</td>\n",
       "      <td>4.180994</td>\n",
       "      <td>0.000000</td>\n",
       "      <td>0.287197</td>\n",
       "      <td>0.688979</td>\n",
       "      <td>3</td>\n",
       "    </tr>\n",
       "    <tr>\n",
       "      <th>3</th>\n",
       "      <td>0.492477</td>\n",
       "      <td>7.313220</td>\n",
       "      <td>0.000000</td>\n",
       "      <td>0.080042</td>\n",
       "      <td>0.080042</td>\n",
       "      <td>0.000000</td>\n",
       "      <td>0.080042</td>\n",
       "      <td>0.693147</td>\n",
       "      <td>0.693147</td>\n",
       "      <td>0.000000</td>\n",
       "      <td>4.835620</td>\n",
       "      <td>2.898616</td>\n",
       "      <td>0.200671</td>\n",
       "      <td>0.000000</td>\n",
       "      <td>2</td>\n",
       "    </tr>\n",
       "    <tr>\n",
       "      <th>4</th>\n",
       "      <td>0.693147</td>\n",
       "      <td>2.833213</td>\n",
       "      <td>0.000000</td>\n",
       "      <td>0.080042</td>\n",
       "      <td>0.080042</td>\n",
       "      <td>0.000000</td>\n",
       "      <td>0.000000</td>\n",
       "      <td>0.000000</td>\n",
       "      <td>0.693147</td>\n",
       "      <td>0.000000</td>\n",
       "      <td>0.847298</td>\n",
       "      <td>0.000000</td>\n",
       "      <td>0.519644</td>\n",
       "      <td>1.327360</td>\n",
       "      <td>3</td>\n",
       "    </tr>\n",
       "  </tbody>\n",
       "</table>\n",
       "</div>"
      ],
      "text/plain": [
       "   BALANCE_FREQUENCY  ONEOFF_PURCHASES  INSTALLMENTS_PURCHASES  \\\n",
       "0           0.597837          0.000000                4.568506   \n",
       "1           0.646627          0.000000                0.000000   \n",
       "2           0.693147          6.651791                0.000000   \n",
       "3           0.492477          7.313220                0.000000   \n",
       "4           0.693147          2.833213                0.000000   \n",
       "\n",
       "   PURCHASES_FREQUENCY  ONEOFF_PURCHASES_FREQUENCY  \\\n",
       "0             0.154151                    0.000000   \n",
       "1             0.000000                    0.000000   \n",
       "2             0.693147                    0.693147   \n",
       "3             0.080042                    0.080042   \n",
       "4             0.080042                    0.080042   \n",
       "\n",
       "   PURCHASES_INSTALLMENTS_FREQUENCY  CASH_ADVANCE_FREQUENCY  CASH_ADVANCE_TRX  \\\n",
       "0                          0.080042                0.000000          0.000000   \n",
       "1                          0.000000                0.223144          1.609438   \n",
       "2                          0.000000                0.000000          0.000000   \n",
       "3                          0.000000                0.080042          0.693147   \n",
       "4                          0.000000                0.000000          0.000000   \n",
       "\n",
       "   PURCHASES_TRX  PRC_FULL_PAYMENT  Monthly_ap  Monthly_ca  limit_usage_ratio  \\\n",
       "0       1.098612          0.000000    2.191654    0.000000           0.040086   \n",
       "1       0.000000          0.200671    0.000000    6.287695           0.376719   \n",
       "2       2.564949          0.000000    4.180994    0.000000           0.287197   \n",
       "3       0.693147          0.000000    4.835620    2.898616           0.200671   \n",
       "4       0.693147          0.000000    0.847298    0.000000           0.519644   \n",
       "\n",
       "   payment_minpayment_ratio  cluster_6  \n",
       "0                  0.894662          2  \n",
       "1                  1.574068          1  \n",
       "2                  0.688979          3  \n",
       "3                  0.000000          2  \n",
       "4                  1.327360          3  "
      ]
     },
     "execution_count": 47,
     "metadata": {},
     "output_type": "execute_result"
    }
   ],
   "source": [
    "C6.head(5)"
   ]
  },
  {
   "cell_type": "code",
   "execution_count": 48,
   "metadata": {},
   "outputs": [],
   "source": [
    "# Mean value of each variable group by Cluster-6\n",
    "cluster_6_output=C6.groupby('cluster_6').apply(lambda x: x[my_vars].mean()).T"
   ]
  },
  {
   "cell_type": "code",
   "execution_count": 49,
   "metadata": {},
   "outputs": [
    {
     "data": {
      "text/html": [
       "<div>\n",
       "<style scoped>\n",
       "    .dataframe tbody tr th:only-of-type {\n",
       "        vertical-align: middle;\n",
       "    }\n",
       "\n",
       "    .dataframe tbody tr th {\n",
       "        vertical-align: top;\n",
       "    }\n",
       "\n",
       "    .dataframe thead th {\n",
       "        text-align: right;\n",
       "    }\n",
       "</style>\n",
       "<table border=\"1\" class=\"dataframe\">\n",
       "  <thead>\n",
       "    <tr style=\"text-align: right;\">\n",
       "      <th>cluster_6</th>\n",
       "      <th>0</th>\n",
       "      <th>1</th>\n",
       "      <th>2</th>\n",
       "      <th>3</th>\n",
       "      <th>4</th>\n",
       "      <th>5</th>\n",
       "    </tr>\n",
       "  </thead>\n",
       "  <tbody>\n",
       "    <tr>\n",
       "      <th>BALANCE_FREQUENCY</th>\n",
       "      <td>0.665510</td>\n",
       "      <td>0.654564</td>\n",
       "      <td>0.314868</td>\n",
       "      <td>0.685061</td>\n",
       "      <td>0.679115</td>\n",
       "      <td>0.590899</td>\n",
       "    </tr>\n",
       "    <tr>\n",
       "      <th>ONEOFF_PURCHASES</th>\n",
       "      <td>7.166017</td>\n",
       "      <td>0.573791</td>\n",
       "      <td>2.862660</td>\n",
       "      <td>4.047577</td>\n",
       "      <td>5.022481</td>\n",
       "      <td>0.800491</td>\n",
       "    </tr>\n",
       "    <tr>\n",
       "      <th>INSTALLMENTS_PURCHASES</th>\n",
       "      <td>5.425212</td>\n",
       "      <td>0.123932</td>\n",
       "      <td>1.507995</td>\n",
       "      <td>3.465724</td>\n",
       "      <td>4.632959</td>\n",
       "      <td>5.987346</td>\n",
       "    </tr>\n",
       "    <tr>\n",
       "      <th>PURCHASES_FREQUENCY</th>\n",
       "      <td>0.619456</td>\n",
       "      <td>0.017033</td>\n",
       "      <td>0.155670</td>\n",
       "      <td>0.400030</td>\n",
       "      <td>0.504359</td>\n",
       "      <td>0.577317</td>\n",
       "    </tr>\n",
       "    <tr>\n",
       "      <th>ONEOFF_PURCHASES_FREQUENCY</th>\n",
       "      <td>0.471360</td>\n",
       "      <td>0.012527</td>\n",
       "      <td>0.080748</td>\n",
       "      <td>0.165575</td>\n",
       "      <td>0.245871</td>\n",
       "      <td>0.020890</td>\n",
       "    </tr>\n",
       "    <tr>\n",
       "      <th>PURCHASES_INSTALLMENTS_FREQUENCY</th>\n",
       "      <td>0.430045</td>\n",
       "      <td>0.003974</td>\n",
       "      <td>0.070495</td>\n",
       "      <td>0.267793</td>\n",
       "      <td>0.368029</td>\n",
       "      <td>0.547240</td>\n",
       "    </tr>\n",
       "    <tr>\n",
       "      <th>CASH_ADVANCE_FREQUENCY</th>\n",
       "      <td>0.011925</td>\n",
       "      <td>0.241612</td>\n",
       "      <td>0.029353</td>\n",
       "      <td>0.014481</td>\n",
       "      <td>0.283223</td>\n",
       "      <td>0.003968</td>\n",
       "    </tr>\n",
       "    <tr>\n",
       "      <th>CASH_ADVANCE_TRX</th>\n",
       "      <td>0.104862</td>\n",
       "      <td>1.725704</td>\n",
       "      <td>0.254887</td>\n",
       "      <td>0.132116</td>\n",
       "      <td>1.984231</td>\n",
       "      <td>0.031479</td>\n",
       "    </tr>\n",
       "    <tr>\n",
       "      <th>PURCHASES_TRX</th>\n",
       "      <td>3.429305</td>\n",
       "      <td>0.142937</td>\n",
       "      <td>1.029240</td>\n",
       "      <td>2.163542</td>\n",
       "      <td>2.723147</td>\n",
       "      <td>2.486144</td>\n",
       "    </tr>\n",
       "    <tr>\n",
       "      <th>PRC_FULL_PAYMENT</th>\n",
       "      <td>0.255163</td>\n",
       "      <td>0.027556</td>\n",
       "      <td>0.104212</td>\n",
       "      <td>0.008044</td>\n",
       "      <td>0.031550</td>\n",
       "      <td>0.316898</td>\n",
       "    </tr>\n",
       "    <tr>\n",
       "      <th>Monthly_ap</th>\n",
       "      <td>5.263442</td>\n",
       "      <td>0.337495</td>\n",
       "      <td>2.242451</td>\n",
       "      <td>3.603938</td>\n",
       "      <td>4.328982</td>\n",
       "      <td>3.669253</td>\n",
       "    </tr>\n",
       "    <tr>\n",
       "      <th>Monthly_ca</th>\n",
       "      <td>0.353933</td>\n",
       "      <td>4.549386</td>\n",
       "      <td>0.905437</td>\n",
       "      <td>0.380094</td>\n",
       "      <td>4.992796</td>\n",
       "      <td>0.112685</td>\n",
       "    </tr>\n",
       "    <tr>\n",
       "      <th>limit_usage_ratio</th>\n",
       "      <td>0.151783</td>\n",
       "      <td>0.460958</td>\n",
       "      <td>0.023920</td>\n",
       "      <td>0.461174</td>\n",
       "      <td>0.454022</td>\n",
       "      <td>0.044752</td>\n",
       "    </tr>\n",
       "    <tr>\n",
       "      <th>payment_minpayment_ratio</th>\n",
       "      <td>2.237347</td>\n",
       "      <td>1.089607</td>\n",
       "      <td>1.406371</td>\n",
       "      <td>0.785189</td>\n",
       "      <td>1.151311</td>\n",
       "      <td>1.605480</td>\n",
       "    </tr>\n",
       "  </tbody>\n",
       "</table>\n",
       "</div>"
      ],
      "text/plain": [
       "cluster_6                                0         1         2         3  \\\n",
       "BALANCE_FREQUENCY                 0.665510  0.654564  0.314868  0.685061   \n",
       "ONEOFF_PURCHASES                  7.166017  0.573791  2.862660  4.047577   \n",
       "INSTALLMENTS_PURCHASES            5.425212  0.123932  1.507995  3.465724   \n",
       "PURCHASES_FREQUENCY               0.619456  0.017033  0.155670  0.400030   \n",
       "ONEOFF_PURCHASES_FREQUENCY        0.471360  0.012527  0.080748  0.165575   \n",
       "PURCHASES_INSTALLMENTS_FREQUENCY  0.430045  0.003974  0.070495  0.267793   \n",
       "CASH_ADVANCE_FREQUENCY            0.011925  0.241612  0.029353  0.014481   \n",
       "CASH_ADVANCE_TRX                  0.104862  1.725704  0.254887  0.132116   \n",
       "PURCHASES_TRX                     3.429305  0.142937  1.029240  2.163542   \n",
       "PRC_FULL_PAYMENT                  0.255163  0.027556  0.104212  0.008044   \n",
       "Monthly_ap                        5.263442  0.337495  2.242451  3.603938   \n",
       "Monthly_ca                        0.353933  4.549386  0.905437  0.380094   \n",
       "limit_usage_ratio                 0.151783  0.460958  0.023920  0.461174   \n",
       "payment_minpayment_ratio          2.237347  1.089607  1.406371  0.785189   \n",
       "\n",
       "cluster_6                                4         5  \n",
       "BALANCE_FREQUENCY                 0.679115  0.590899  \n",
       "ONEOFF_PURCHASES                  5.022481  0.800491  \n",
       "INSTALLMENTS_PURCHASES            4.632959  5.987346  \n",
       "PURCHASES_FREQUENCY               0.504359  0.577317  \n",
       "ONEOFF_PURCHASES_FREQUENCY        0.245871  0.020890  \n",
       "PURCHASES_INSTALLMENTS_FREQUENCY  0.368029  0.547240  \n",
       "CASH_ADVANCE_FREQUENCY            0.283223  0.003968  \n",
       "CASH_ADVANCE_TRX                  1.984231  0.031479  \n",
       "PURCHASES_TRX                     2.723147  2.486144  \n",
       "PRC_FULL_PAYMENT                  0.031550  0.316898  \n",
       "Monthly_ap                        4.328982  3.669253  \n",
       "Monthly_ca                        4.992796  0.112685  \n",
       "limit_usage_ratio                 0.454022  0.044752  \n",
       "payment_minpayment_ratio          1.151311  1.605480  "
      ]
     },
     "execution_count": 49,
     "metadata": {},
     "output_type": "execute_result"
    }
   ],
   "source": [
    "cluster_6_output"
   ]
  },
  {
   "cell_type": "code",
   "execution_count": 50,
   "metadata": {},
   "outputs": [
    {
     "name": "stdout",
     "output_type": "stream",
     "text": [
      "\n",
      " cluster_6   \n",
      "0          0    1484\n",
      "1          1    2233\n",
      "2          2     919\n",
      "3          3    1428\n",
      "4          4    1431\n",
      "5          5    1455\n",
      "Name: cluster_6, dtype: int64\n"
     ]
    }
   ],
   "source": [
    "s1=C6.groupby('cluster_6').apply(lambda x: x['cluster_6'].value_counts())\n",
    "print ('\\n',s1)"
   ]
  },
  {
   "cell_type": "code",
   "execution_count": 51,
   "metadata": {},
   "outputs": [
    {
     "name": "stdout",
     "output_type": "stream",
     "text": [
      "Cluster-6 \n",
      "\n",
      "   size  Percentage\n",
      "0  1484   16.581006\n",
      "1  2233   24.949721\n",
      "2   919   10.268156\n",
      "3  1428   15.955307\n",
      "4  1431   15.988827\n",
      "5  1455   16.256983\n"
     ]
    }
   ],
   "source": [
    "# percentage of each cluster\n",
    "print (\"Cluster-6\",'\\n')\n",
    "per_6=pd.Series((s1.values.astype('float')/C6.shape[0])*100,name='Percentage')\n",
    "print (pd.concat((pd.Series(s1.values,name='size'),per_6),axis=1))"
   ]
  },
  {
   "cell_type": "markdown",
   "metadata": {},
   "source": [
    "# 7 Cluster Solution"
   ]
  },
  {
   "cell_type": "code",
   "execution_count": 52,
   "metadata": {},
   "outputs": [],
   "source": [
    "km_7=KMeans(n_clusters=7,random_state=123)"
   ]
  },
  {
   "cell_type": "code",
   "execution_count": 53,
   "metadata": {},
   "outputs": [
    {
     "data": {
      "text/plain": [
       "KMeans(algorithm='auto', copy_x=True, init='k-means++', max_iter=300,\n",
       "    n_clusters=7, n_init=10, n_jobs=1, precompute_distances='auto',\n",
       "    random_state=123, tol=0.0001, verbose=0)"
      ]
     },
     "execution_count": 53,
     "metadata": {},
     "output_type": "execute_result"
    }
   ],
   "source": [
    "km_7.fit(reduced_cr)"
   ]
  },
  {
   "cell_type": "code",
   "execution_count": 54,
   "metadata": {},
   "outputs": [
    {
     "data": {
      "text/plain": [
       "array([5, 0, 6, ..., 1, 5, 6])"
      ]
     },
     "execution_count": 54,
     "metadata": {},
     "output_type": "execute_result"
    }
   ],
   "source": [
    "km_7.labels_"
   ]
  },
  {
   "cell_type": "code",
   "execution_count": 55,
   "metadata": {},
   "outputs": [
    {
     "data": {
      "text/plain": [
       "0    2196\n",
       "1    1425\n",
       "3    1316\n",
       "2    1303\n",
       "6    1047\n",
       "4     904\n",
       "5     759\n",
       "dtype: int64"
      ]
     },
     "execution_count": 55,
     "metadata": {},
     "output_type": "execute_result"
    }
   ],
   "source": [
    "pd.Series(km_7.labels_).value_counts()"
   ]
  },
  {
   "cell_type": "code",
   "execution_count": 56,
   "metadata": {},
   "outputs": [],
   "source": [
    "C7=pd.concat([credit_card_data_log[my_vars],pd.Series(km_7.labels_,name='cluster_7')],axis=1)"
   ]
  },
  {
   "cell_type": "code",
   "execution_count": 57,
   "metadata": {},
   "outputs": [
    {
     "data": {
      "text/html": [
       "<div>\n",
       "<style scoped>\n",
       "    .dataframe tbody tr th:only-of-type {\n",
       "        vertical-align: middle;\n",
       "    }\n",
       "\n",
       "    .dataframe tbody tr th {\n",
       "        vertical-align: top;\n",
       "    }\n",
       "\n",
       "    .dataframe thead th {\n",
       "        text-align: right;\n",
       "    }\n",
       "</style>\n",
       "<table border=\"1\" class=\"dataframe\">\n",
       "  <thead>\n",
       "    <tr style=\"text-align: right;\">\n",
       "      <th></th>\n",
       "      <th>BALANCE_FREQUENCY</th>\n",
       "      <th>ONEOFF_PURCHASES</th>\n",
       "      <th>INSTALLMENTS_PURCHASES</th>\n",
       "      <th>PURCHASES_FREQUENCY</th>\n",
       "      <th>ONEOFF_PURCHASES_FREQUENCY</th>\n",
       "      <th>PURCHASES_INSTALLMENTS_FREQUENCY</th>\n",
       "      <th>CASH_ADVANCE_FREQUENCY</th>\n",
       "      <th>CASH_ADVANCE_TRX</th>\n",
       "      <th>PURCHASES_TRX</th>\n",
       "      <th>PRC_FULL_PAYMENT</th>\n",
       "      <th>Monthly_ap</th>\n",
       "      <th>Monthly_ca</th>\n",
       "      <th>limit_usage_ratio</th>\n",
       "      <th>payment_minpayment_ratio</th>\n",
       "      <th>cluster_7</th>\n",
       "    </tr>\n",
       "  </thead>\n",
       "  <tbody>\n",
       "    <tr>\n",
       "      <th>0</th>\n",
       "      <td>0.597837</td>\n",
       "      <td>0.000000</td>\n",
       "      <td>4.568506</td>\n",
       "      <td>0.154151</td>\n",
       "      <td>0.000000</td>\n",
       "      <td>0.080042</td>\n",
       "      <td>0.000000</td>\n",
       "      <td>0.000000</td>\n",
       "      <td>1.098612</td>\n",
       "      <td>0.000000</td>\n",
       "      <td>2.191654</td>\n",
       "      <td>0.000000</td>\n",
       "      <td>0.040086</td>\n",
       "      <td>0.894662</td>\n",
       "      <td>5</td>\n",
       "    </tr>\n",
       "    <tr>\n",
       "      <th>1</th>\n",
       "      <td>0.646627</td>\n",
       "      <td>0.000000</td>\n",
       "      <td>0.000000</td>\n",
       "      <td>0.000000</td>\n",
       "      <td>0.000000</td>\n",
       "      <td>0.000000</td>\n",
       "      <td>0.223144</td>\n",
       "      <td>1.609438</td>\n",
       "      <td>0.000000</td>\n",
       "      <td>0.200671</td>\n",
       "      <td>0.000000</td>\n",
       "      <td>6.287695</td>\n",
       "      <td>0.376719</td>\n",
       "      <td>1.574068</td>\n",
       "      <td>0</td>\n",
       "    </tr>\n",
       "    <tr>\n",
       "      <th>2</th>\n",
       "      <td>0.693147</td>\n",
       "      <td>6.651791</td>\n",
       "      <td>0.000000</td>\n",
       "      <td>0.693147</td>\n",
       "      <td>0.693147</td>\n",
       "      <td>0.000000</td>\n",
       "      <td>0.000000</td>\n",
       "      <td>0.000000</td>\n",
       "      <td>2.564949</td>\n",
       "      <td>0.000000</td>\n",
       "      <td>4.180994</td>\n",
       "      <td>0.000000</td>\n",
       "      <td>0.287197</td>\n",
       "      <td>0.688979</td>\n",
       "      <td>6</td>\n",
       "    </tr>\n",
       "    <tr>\n",
       "      <th>3</th>\n",
       "      <td>0.492477</td>\n",
       "      <td>7.313220</td>\n",
       "      <td>0.000000</td>\n",
       "      <td>0.080042</td>\n",
       "      <td>0.080042</td>\n",
       "      <td>0.000000</td>\n",
       "      <td>0.080042</td>\n",
       "      <td>0.693147</td>\n",
       "      <td>0.693147</td>\n",
       "      <td>0.000000</td>\n",
       "      <td>4.835620</td>\n",
       "      <td>2.898616</td>\n",
       "      <td>0.200671</td>\n",
       "      <td>0.000000</td>\n",
       "      <td>6</td>\n",
       "    </tr>\n",
       "    <tr>\n",
       "      <th>4</th>\n",
       "      <td>0.693147</td>\n",
       "      <td>2.833213</td>\n",
       "      <td>0.000000</td>\n",
       "      <td>0.080042</td>\n",
       "      <td>0.080042</td>\n",
       "      <td>0.000000</td>\n",
       "      <td>0.000000</td>\n",
       "      <td>0.000000</td>\n",
       "      <td>0.693147</td>\n",
       "      <td>0.000000</td>\n",
       "      <td>0.847298</td>\n",
       "      <td>0.000000</td>\n",
       "      <td>0.519644</td>\n",
       "      <td>1.327360</td>\n",
       "      <td>6</td>\n",
       "    </tr>\n",
       "  </tbody>\n",
       "</table>\n",
       "</div>"
      ],
      "text/plain": [
       "   BALANCE_FREQUENCY  ONEOFF_PURCHASES  INSTALLMENTS_PURCHASES  \\\n",
       "0           0.597837          0.000000                4.568506   \n",
       "1           0.646627          0.000000                0.000000   \n",
       "2           0.693147          6.651791                0.000000   \n",
       "3           0.492477          7.313220                0.000000   \n",
       "4           0.693147          2.833213                0.000000   \n",
       "\n",
       "   PURCHASES_FREQUENCY  ONEOFF_PURCHASES_FREQUENCY  \\\n",
       "0             0.154151                    0.000000   \n",
       "1             0.000000                    0.000000   \n",
       "2             0.693147                    0.693147   \n",
       "3             0.080042                    0.080042   \n",
       "4             0.080042                    0.080042   \n",
       "\n",
       "   PURCHASES_INSTALLMENTS_FREQUENCY  CASH_ADVANCE_FREQUENCY  CASH_ADVANCE_TRX  \\\n",
       "0                          0.080042                0.000000          0.000000   \n",
       "1                          0.000000                0.223144          1.609438   \n",
       "2                          0.000000                0.000000          0.000000   \n",
       "3                          0.000000                0.080042          0.693147   \n",
       "4                          0.000000                0.000000          0.000000   \n",
       "\n",
       "   PURCHASES_TRX  PRC_FULL_PAYMENT  Monthly_ap  Monthly_ca  limit_usage_ratio  \\\n",
       "0       1.098612          0.000000    2.191654    0.000000           0.040086   \n",
       "1       0.000000          0.200671    0.000000    6.287695           0.376719   \n",
       "2       2.564949          0.000000    4.180994    0.000000           0.287197   \n",
       "3       0.693147          0.000000    4.835620    2.898616           0.200671   \n",
       "4       0.693147          0.000000    0.847298    0.000000           0.519644   \n",
       "\n",
       "   payment_minpayment_ratio  cluster_7  \n",
       "0                  0.894662          5  \n",
       "1                  1.574068          0  \n",
       "2                  0.688979          6  \n",
       "3                  0.000000          6  \n",
       "4                  1.327360          6  "
      ]
     },
     "execution_count": 57,
     "metadata": {},
     "output_type": "execute_result"
    }
   ],
   "source": [
    "C7.head(5)"
   ]
  },
  {
   "cell_type": "code",
   "execution_count": 58,
   "metadata": {},
   "outputs": [],
   "source": [
    "# Mean value of each variable group by Cluster-4\n",
    "cluster_7_output=C7.groupby('cluster_7').apply(lambda x: x[my_vars].mean()).T"
   ]
  },
  {
   "cell_type": "code",
   "execution_count": 59,
   "metadata": {},
   "outputs": [
    {
     "data": {
      "text/html": [
       "<div>\n",
       "<style scoped>\n",
       "    .dataframe tbody tr th:only-of-type {\n",
       "        vertical-align: middle;\n",
       "    }\n",
       "\n",
       "    .dataframe tbody tr th {\n",
       "        vertical-align: top;\n",
       "    }\n",
       "\n",
       "    .dataframe thead th {\n",
       "        text-align: right;\n",
       "    }\n",
       "</style>\n",
       "<table border=\"1\" class=\"dataframe\">\n",
       "  <thead>\n",
       "    <tr style=\"text-align: right;\">\n",
       "      <th>cluster_7</th>\n",
       "      <th>0</th>\n",
       "      <th>1</th>\n",
       "      <th>2</th>\n",
       "      <th>3</th>\n",
       "      <th>4</th>\n",
       "      <th>5</th>\n",
       "      <th>6</th>\n",
       "    </tr>\n",
       "  </thead>\n",
       "  <tbody>\n",
       "    <tr>\n",
       "      <th>BALANCE_FREQUENCY</th>\n",
       "      <td>0.655009</td>\n",
       "      <td>0.582874</td>\n",
       "      <td>0.678995</td>\n",
       "      <td>0.666088</td>\n",
       "      <td>0.688297</td>\n",
       "      <td>0.277226</td>\n",
       "      <td>0.654753</td>\n",
       "    </tr>\n",
       "    <tr>\n",
       "      <th>ONEOFF_PURCHASES</th>\n",
       "      <td>0.507211</td>\n",
       "      <td>0.872220</td>\n",
       "      <td>5.202949</td>\n",
       "      <td>7.226742</td>\n",
       "      <td>2.484707</td>\n",
       "      <td>2.294150</td>\n",
       "      <td>5.772909</td>\n",
       "    </tr>\n",
       "    <tr>\n",
       "      <th>INSTALLMENTS_PURCHASES</th>\n",
       "      <td>0.129408</td>\n",
       "      <td>5.932527</td>\n",
       "      <td>4.602336</td>\n",
       "      <td>5.757093</td>\n",
       "      <td>6.070871</td>\n",
       "      <td>1.609902</td>\n",
       "      <td>0.938701</td>\n",
       "    </tr>\n",
       "    <tr>\n",
       "      <th>PURCHASES_FREQUENCY</th>\n",
       "      <td>0.015880</td>\n",
       "      <td>0.565942</td>\n",
       "      <td>0.497251</td>\n",
       "      <td>0.631018</td>\n",
       "      <td>0.565932</td>\n",
       "      <td>0.143854</td>\n",
       "      <td>0.279732</td>\n",
       "    </tr>\n",
       "    <tr>\n",
       "      <th>ONEOFF_PURCHASES_FREQUENCY</th>\n",
       "      <td>0.011168</td>\n",
       "      <td>0.022605</td>\n",
       "      <td>0.255508</td>\n",
       "      <td>0.481171</td>\n",
       "      <td>0.093494</td>\n",
       "      <td>0.059716</td>\n",
       "      <td>0.255615</td>\n",
       "    </tr>\n",
       "    <tr>\n",
       "      <th>PURCHASES_INSTALLMENTS_FREQUENCY</th>\n",
       "      <td>0.004148</td>\n",
       "      <td>0.533998</td>\n",
       "      <td>0.358984</td>\n",
       "      <td>0.456898</td>\n",
       "      <td>0.533746</td>\n",
       "      <td>0.079292</td>\n",
       "      <td>0.033774</td>\n",
       "    </tr>\n",
       "    <tr>\n",
       "      <th>CASH_ADVANCE_FREQUENCY</th>\n",
       "      <td>0.242652</td>\n",
       "      <td>0.004117</td>\n",
       "      <td>0.299306</td>\n",
       "      <td>0.012163</td>\n",
       "      <td>0.024736</td>\n",
       "      <td>0.033200</td>\n",
       "      <td>0.022582</td>\n",
       "    </tr>\n",
       "    <tr>\n",
       "      <th>CASH_ADVANCE_TRX</th>\n",
       "      <td>1.731255</td>\n",
       "      <td>0.031610</td>\n",
       "      <td>2.070526</td>\n",
       "      <td>0.106531</td>\n",
       "      <td>0.231991</td>\n",
       "      <td>0.294633</td>\n",
       "      <td>0.190006</td>\n",
       "    </tr>\n",
       "    <tr>\n",
       "      <th>PURCHASES_TRX</th>\n",
       "      <td>0.131629</td>\n",
       "      <td>2.449660</td>\n",
       "      <td>2.720461</td>\n",
       "      <td>3.514846</td>\n",
       "      <td>2.738717</td>\n",
       "      <td>0.938928</td>\n",
       "      <td>1.737606</td>\n",
       "    </tr>\n",
       "    <tr>\n",
       "      <th>PRC_FULL_PAYMENT</th>\n",
       "      <td>0.028199</td>\n",
       "      <td>0.324695</td>\n",
       "      <td>0.032468</td>\n",
       "      <td>0.276667</td>\n",
       "      <td>0.013443</td>\n",
       "      <td>0.102077</td>\n",
       "      <td>0.031557</td>\n",
       "    </tr>\n",
       "    <tr>\n",
       "      <th>Monthly_ap</th>\n",
       "      <td>0.302525</td>\n",
       "      <td>3.633456</td>\n",
       "      <td>4.342171</td>\n",
       "      <td>5.344516</td>\n",
       "      <td>3.926585</td>\n",
       "      <td>1.951755</td>\n",
       "      <td>3.573141</td>\n",
       "    </tr>\n",
       "    <tr>\n",
       "      <th>Monthly_ca</th>\n",
       "      <td>4.554609</td>\n",
       "      <td>0.111266</td>\n",
       "      <td>5.110474</td>\n",
       "      <td>0.356297</td>\n",
       "      <td>0.725745</td>\n",
       "      <td>1.052081</td>\n",
       "      <td>0.596583</td>\n",
       "    </tr>\n",
       "    <tr>\n",
       "      <th>limit_usage_ratio</th>\n",
       "      <td>0.462587</td>\n",
       "      <td>0.036481</td>\n",
       "      <td>0.449942</td>\n",
       "      <td>0.146421</td>\n",
       "      <td>0.497390</td>\n",
       "      <td>0.018992</td>\n",
       "      <td>0.323857</td>\n",
       "    </tr>\n",
       "    <tr>\n",
       "      <th>payment_minpayment_ratio</th>\n",
       "      <td>1.091331</td>\n",
       "      <td>1.638806</td>\n",
       "      <td>1.177907</td>\n",
       "      <td>2.320123</td>\n",
       "      <td>0.715518</td>\n",
       "      <td>1.291923</td>\n",
       "      <td>1.149156</td>\n",
       "    </tr>\n",
       "  </tbody>\n",
       "</table>\n",
       "</div>"
      ],
      "text/plain": [
       "cluster_7                                0         1         2         3  \\\n",
       "BALANCE_FREQUENCY                 0.655009  0.582874  0.678995  0.666088   \n",
       "ONEOFF_PURCHASES                  0.507211  0.872220  5.202949  7.226742   \n",
       "INSTALLMENTS_PURCHASES            0.129408  5.932527  4.602336  5.757093   \n",
       "PURCHASES_FREQUENCY               0.015880  0.565942  0.497251  0.631018   \n",
       "ONEOFF_PURCHASES_FREQUENCY        0.011168  0.022605  0.255508  0.481171   \n",
       "PURCHASES_INSTALLMENTS_FREQUENCY  0.004148  0.533998  0.358984  0.456898   \n",
       "CASH_ADVANCE_FREQUENCY            0.242652  0.004117  0.299306  0.012163   \n",
       "CASH_ADVANCE_TRX                  1.731255  0.031610  2.070526  0.106531   \n",
       "PURCHASES_TRX                     0.131629  2.449660  2.720461  3.514846   \n",
       "PRC_FULL_PAYMENT                  0.028199  0.324695  0.032468  0.276667   \n",
       "Monthly_ap                        0.302525  3.633456  4.342171  5.344516   \n",
       "Monthly_ca                        4.554609  0.111266  5.110474  0.356297   \n",
       "limit_usage_ratio                 0.462587  0.036481  0.449942  0.146421   \n",
       "payment_minpayment_ratio          1.091331  1.638806  1.177907  2.320123   \n",
       "\n",
       "cluster_7                                4         5         6  \n",
       "BALANCE_FREQUENCY                 0.688297  0.277226  0.654753  \n",
       "ONEOFF_PURCHASES                  2.484707  2.294150  5.772909  \n",
       "INSTALLMENTS_PURCHASES            6.070871  1.609902  0.938701  \n",
       "PURCHASES_FREQUENCY               0.565932  0.143854  0.279732  \n",
       "ONEOFF_PURCHASES_FREQUENCY        0.093494  0.059716  0.255615  \n",
       "PURCHASES_INSTALLMENTS_FREQUENCY  0.533746  0.079292  0.033774  \n",
       "CASH_ADVANCE_FREQUENCY            0.024736  0.033200  0.022582  \n",
       "CASH_ADVANCE_TRX                  0.231991  0.294633  0.190006  \n",
       "PURCHASES_TRX                     2.738717  0.938928  1.737606  \n",
       "PRC_FULL_PAYMENT                  0.013443  0.102077  0.031557  \n",
       "Monthly_ap                        3.926585  1.951755  3.573141  \n",
       "Monthly_ca                        0.725745  1.052081  0.596583  \n",
       "limit_usage_ratio                 0.497390  0.018992  0.323857  \n",
       "payment_minpayment_ratio          0.715518  1.291923  1.149156  "
      ]
     },
     "execution_count": 59,
     "metadata": {},
     "output_type": "execute_result"
    }
   ],
   "source": [
    "cluster_7_output"
   ]
  },
  {
   "cell_type": "code",
   "execution_count": 60,
   "metadata": {},
   "outputs": [
    {
     "name": "stdout",
     "output_type": "stream",
     "text": [
      "\n",
      " cluster_7   \n",
      "0          0    2196\n",
      "1          1    1425\n",
      "2          2    1303\n",
      "3          3    1316\n",
      "4          4     904\n",
      "5          5     759\n",
      "6          6    1047\n",
      "Name: cluster_7, dtype: int64\n"
     ]
    }
   ],
   "source": [
    "s1=C7.groupby('cluster_7').apply(lambda x: x['cluster_7'].value_counts())\n",
    "print ('\\n',s1)"
   ]
  },
  {
   "cell_type": "code",
   "execution_count": 61,
   "metadata": {},
   "outputs": [
    {
     "name": "stdout",
     "output_type": "stream",
     "text": [
      "Cluster-7 \n",
      "\n",
      "   size  Percentage\n",
      "0  2196   24.536313\n",
      "1  1425   15.921788\n",
      "2  1303   14.558659\n",
      "3  1316   14.703911\n",
      "4   904   10.100559\n",
      "5   759    8.480447\n",
      "6  1047   11.698324\n"
     ]
    }
   ],
   "source": [
    "# percentage of each cluster\n",
    "print (\"Cluster-7\",'\\n')\n",
    "per_7=pd.Series((s1.values.astype('float')/C7.shape[0])*100,name='Percentage')\n",
    "print (pd.concat((pd.Series(s1.values,name='size'),per_7),axis=1))"
   ]
  },
  {
   "cell_type": "code",
   "execution_count": 62,
   "metadata": {},
   "outputs": [],
   "source": [
    "C4.to_excel('C:/Python/3 Credit Card Case Study- Segmentation/C4.xls')\n",
    "C5.to_excel('C:/Python/3 Credit Card Case Study- Segmentation/C5.xls')\n",
    "C6.to_excel('C:/Python/3 Credit Card Case Study- Segmentation/C6.xls')\n",
    "C7.to_excel('C:/Python/3 Credit Card Case Study- Segmentation/C7.xls')"
   ]
  }
 ],
 "metadata": {
  "kernelspec": {
   "display_name": "Python 3",
   "language": "python",
   "name": "python3"
  },
  "language_info": {
   "codemirror_mode": {
    "name": "ipython",
    "version": 3
   },
   "file_extension": ".py",
   "mimetype": "text/x-python",
   "name": "python",
   "nbconvert_exporter": "python",
   "pygments_lexer": "ipython3",
   "version": "3.6.4"
  }
 },
 "nbformat": 4,
 "nbformat_minor": 2
}
